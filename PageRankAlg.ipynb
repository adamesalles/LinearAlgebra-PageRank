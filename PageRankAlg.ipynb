{
 "cells": [
  {
   "cell_type": "code",
   "execution_count": 1,
   "id": "2c165efe",
   "metadata": {},
   "outputs": [],
   "source": [
    "import numpy as np\n",
    "import numpy.linalg as la\n",
    "import pandas as pd\n",
    "import requests\n",
    "import re\n",
    "from urllib.parse import urlparse, urldefrag\n",
    "from bs4 import BeautifulSoup as bs"
   ]
  },
  {
   "cell_type": "code",
   "execution_count": 2,
   "id": "a86fe3a4",
   "metadata": {},
   "outputs": [],
   "source": [
    "def generate_internet(n) :\n",
    "    c = np.full([n,n], np.arange(n))\n",
    "    c = (abs(np.random.standard_cauchy([n,n])/2) > (np.abs(c - c.T) + 1)) + 0\n",
    "    c = (c+1e-10) / np.sum((c+1e-10), axis=0)\n",
    "    return c"
   ]
  },
  {
   "cell_type": "code",
   "execution_count": 6,
   "id": "a9438118",
   "metadata": {},
   "outputs": [],
   "source": [
    "# Método por dot product\n",
    "def dotPageRank(M) :\n",
    "    n = M.shape[0]\n",
    "    r = 100 * np.ones(n) / n # Vetor (n linhas 1/n × 100 cada)\n",
    "    last = r\n",
    "    r = M @ r\n",
    "    while la.norm(last - r) > 0.01 :\n",
    "        last = r\n",
    "        r = M @ r\n",
    "    return r"
   ]
  },
  {
   "cell_type": "code",
   "execution_count": 3,
   "id": "ea2e346a",
   "metadata": {},
   "outputs": [],
   "source": [
    "# Método por dot product (com solução para páginas que somam 0)\n",
    "def dotPageRankD(linkMatrix, d) :\n",
    "    n = linkMatrix.shape[0]\n",
    "    M = d * linkMatrix + (1-d)/n * np.ones([n, n])\n",
    "    r = 100 * np.ones(n) / n # Vetor (n linhas 1/n × 100 cada)\n",
    "    last = r\n",
    "    r = M @ r\n",
    "    while la.norm(last - r) > 0.01 :\n",
    "        last = r\n",
    "        r = M @ r\n",
    "    return r"
   ]
  },
  {
   "cell_type": "code",
   "execution_count": 5,
   "id": "9214328f",
   "metadata": {},
   "outputs": [],
   "source": [
    "def eigPageRank(linkMatrix):\n",
    "    eVals, eVecs = la.eig(L) # Calcula os autovalores e autovetores\n",
    "    order = np.absolute(eVals).argsort()[::-1] # Ordena pelos autovalores\n",
    "    eVals = eVals[order]\n",
    "    eVecs = eVecs[:,order]\n",
    "\n",
    "    r = eVecs[:, 0] # r é o principal autovetor\n",
    "    return 100 * np.real(r / np.sum(r)) # Faz o vetor somar um (e multiplica por 100)."
   ]
  }
 ],
 "metadata": {
  "kernelspec": {
   "display_name": "Python 3 (ipykernel)",
   "language": "python",
   "name": "python3"
  },
  "language_info": {
   "codemirror_mode": {
    "name": "ipython",
    "version": 3
   },
   "file_extension": ".py",
   "mimetype": "text/x-python",
   "name": "python",
   "nbconvert_exporter": "python",
   "pygments_lexer": "ipython3",
   "version": "3.8.5"
  }
 },
 "nbformat": 4,
 "nbformat_minor": 5
}
