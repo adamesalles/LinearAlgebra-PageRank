{
 "cells": [
  {
   "cell_type": "markdown",
   "id": "6c72a61a",
   "metadata": {},
   "source": [
    "## Implementação Computacional\n",
    "Agora, vamos ver como podemos automatizar a execução do algortimo através de programação. Nesse caso, iremos utilizar o _Python_. Entretanto, é necessário primeiro importar sua biblioteca _Numpy_ para podermos trabalhar com matrizes."
   ]
  },
  {
   "cell_type": "code",
   "execution_count": 1,
   "id": "e19f4a20",
   "metadata": {},
   "outputs": [],
   "source": [
    "import numpy as np\n",
    "import numpy.linalg as la"
   ]
  },
  {
   "cell_type": "markdown",
   "id": "83208bac",
   "metadata": {},
   "source": [
    "Isto feito, podemos criar as funções que serão utilizadas. Inicialmente, mostraremos o funcionamento em uma matriz gerada automaticamente. Eventualmente, estaremos utilizando redes retiradas da Internet. \n",
    "### Gerando uma matriz"
   ]
  },
  {
   "cell_type": "code",
   "execution_count": 42,
   "id": "648e98fe",
   "metadata": {},
   "outputs": [],
   "source": [
    "def fake_internet(n):\n",
    "    #############################\n",
    "    ### CRIA MATRIZ APLICÁVEL ###\n",
    "    #############################\n",
    "    \n",
    "    # Cria matriz do tamanho n x n com colunas de 0, 1, ..., n-1.\n",
    "    c = np.full([n,n], np.arange(n))\n",
    "    \n",
    "    # Transforma a matriz em booleanos aleatórios com base na desigualdade abaixo.\n",
    "    c = (abs(np.random.standard_cauchy([n,n])/2) > (np.abs(c - c.T) + 1))\n",
    "    \n",
    "    # Transforma True em conexões e depois faz as colunas somarem 1.\n",
    "    c = (c+1e-10) / np.sum((c+1e-10), axis=0)\n",
    "    return c"
   ]
  },
  {
   "cell_type": "markdown",
   "id": "e4a11fbe",
   "metadata": {},
   "source": [
    "Assim, criamos uma matriz quadrada do tamanho que quisermos na qual as colunas somam 1. Portanto, é uma candidata funcional para a aplicação dos métodos de _PageRank_ que visualizamos. Vamos criar uma variável _matriz_ para guardar o valor da Internet que criamos."
   ]
  },
  {
   "cell_type": "code",
   "execution_count": 45,
   "id": "8de96ea8",
   "metadata": {},
   "outputs": [
    {
     "data": {
      "text/plain": [
       "array([[2.5e-01, 1.0e-10, 2.5e-01, 2.5e-01],\n",
       "       [2.5e-01, 1.0e+00, 2.5e-01, 2.5e-01],\n",
       "       [2.5e-01, 1.0e-10, 2.5e-01, 2.5e-01],\n",
       "       [2.5e-01, 1.0e-10, 2.5e-01, 2.5e-01]])"
      ]
     },
     "execution_count": 45,
     "metadata": {},
     "output_type": "execute_result"
    }
   ],
   "source": [
    "c = fake_internet(4)\n",
    "c"
   ]
  },
  {
   "cell_type": "code",
   "execution_count": 40,
   "id": "366c3f72",
   "metadata": {},
   "outputs": [
    {
     "data": {
      "text/plain": [
       "array([[0.67001973, 0.29909951, 0.03088076],\n",
       "       [0.37580483, 0.41005364, 0.21414154],\n",
       "       [0.07532774, 0.30968611, 0.61498615]])"
      ]
     },
     "execution_count": 40,
     "metadata": {},
     "output_type": "execute_result"
    }
   ],
   "source": [
    "matrix = np.random.rand(3,3)\n",
    "\n",
    "matrix/matrix.sum(axis=1)[:,None]"
   ]
  },
  {
   "cell_type": "markdown",
   "id": "d61ee9d6",
   "metadata": {},
   "source": [
    "Agora, o primeiro método que foi explicado: vamos calcular todos os autovalores e autovetores presentes na matriz criada. Depois, organizamos os autovalores em ordem decrescente e utilizamos esta mesma ordem para os autovetores. Podemos, portanto, remover o primeiro autovetor dessa lista: será o autovetor correspondente ao maior autovelor, e portanto, o _PageRank_ da matriz.\n",
    "### Utilizando os algoritmos"
   ]
  },
  {
   "cell_type": "code",
   "execution_count": 4,
   "id": "c234c820",
   "metadata": {},
   "outputs": [],
   "source": [
    "def eigPageRank(linkMatrix):\n",
    "    ################################\n",
    "    ### PAGERANK POR AUTOVETORES ###\n",
    "    ################################\n",
    "    \n",
    "    # Calcula os autovalores e autovetores\n",
    "    eVals, eVecs = la.eig(linkMatrix) \n",
    "    \n",
    "    # Ordena pelos autovalores\n",
    "    order = np.absolute(eVals).argsort()[::-1] \n",
    "    eVals = eVals[order]\n",
    "    eVecs = eVecs[:,order]\n",
    "    \n",
    "    # r é o principal autovetor\n",
    "    r = eVecs[:, 0] \n",
    "    \n",
    "    # Faz o vetor somar um (e multiplica por 100 pra melhorar legibilidade).\n",
    "    return 100 * np.real(r / np.sum(r)) "
   ]
  },
  {
   "cell_type": "markdown",
   "id": "2d948bae",
   "metadata": {},
   "source": [
    "Utilizando essa função em nossa matriz, temos:"
   ]
  },
  {
   "cell_type": "code",
   "execution_count": 5,
   "id": "c15fa51f",
   "metadata": {},
   "outputs": [
    {
     "data": {
      "text/plain": [
       "array([21.05263158,  5.2631579 , 31.57894737, 42.10526315])"
      ]
     },
     "execution_count": 5,
     "metadata": {},
     "output_type": "execute_result"
    }
   ],
   "source": [
    "eigPageRank(matriz)"
   ]
  },
  {
   "cell_type": "markdown",
   "id": "ca65beb4",
   "metadata": {},
   "source": [
    "Contudo, como vimos, podemos aproximar também através de iterações. Iniciamos com um vetor $r$, que tem todas as entradas iguais e a soma é 1. Realizamos a multiplicação da _matriz_ por $r$ e atualizamos o valor de $r$ até que a norma da diferença entre duas iterações seja menor que um número extremamente pequeno."
   ]
  },
  {
   "cell_type": "code",
   "execution_count": 6,
   "id": "18d5c480",
   "metadata": {},
   "outputs": [],
   "source": [
    "# Método por dot product\n",
    "def dotPageRank(M) :\n",
    "    n = M.shape[0]\n",
    "    r = 100 * np.ones(n) / n # Vetor (n linhas 1/n × 100 cada)\n",
    "    last = r\n",
    "    r = M @ r\n",
    "    while la.norm(last - r) > 0.01 :\n",
    "        last = r\n",
    "        r = M @ r\n",
    "    return r"
   ]
  },
  {
   "cell_type": "markdown",
   "id": "feed351a",
   "metadata": {},
   "source": [
    "Se aplicarmos esse método em nossa matriz, temos:"
   ]
  },
  {
   "cell_type": "code",
   "execution_count": 7,
   "id": "20806d27",
   "metadata": {},
   "outputs": [
    {
     "data": {
      "text/plain": [
       "array([21.05171085,  5.26457429, 31.57846332, 42.10525154])"
      ]
     },
     "execution_count": 7,
     "metadata": {},
     "output_type": "execute_result"
    }
   ],
   "source": [
    "dotPageRank(matriz)"
   ]
  },
  {
   "cell_type": "markdown",
   "id": "b6275963",
   "metadata": {},
   "source": [
    "Perceba que os resultados são bem semelhantes. Porém, ainda temos como aprimorar esse processo, como vimos anteriormente. Introduzimos então o fator de amortecimento $d$, para que o sistema seja eficiente em situações de drenagens ou ciclos. Usualmente, o fator de amortecimento utilizado é de 85%."
   ]
  },
  {
   "cell_type": "code",
   "execution_count": 8,
   "id": "18a70a95",
   "metadata": {},
   "outputs": [],
   "source": [
    "# Método por dot product (com solução para páginas que somam 0)\n",
    "def dotPageRankD(linkMatrix, d) :\n",
    "    n = linkMatrix.shape[0]\n",
    "    M = d * linkMatrix + (1-d)/n * np.ones([n, n])\n",
    "    r = 100 * np.ones(n) / n # Vetor (n linhas 1/n × 100 cada)\n",
    "    last = r\n",
    "    r = M @ r\n",
    "    while la.norm(last - r) > 0.01 :\n",
    "        last = r\n",
    "        r = M @ r\n",
    "    return r"
   ]
  },
  {
   "cell_type": "markdown",
   "id": "dc8b474f",
   "metadata": {},
   "source": [
    "Por fim, testaremos esse novo processo em nossa matriz:"
   ]
  },
  {
   "cell_type": "code",
   "execution_count": 9,
   "id": "9c7b0097",
   "metadata": {},
   "outputs": [
    {
     "data": {
      "text/plain": [
       "array([21.87046479,  8.39676658, 31.69856198, 38.03420665])"
      ]
     },
     "execution_count": 9,
     "metadata": {},
     "output_type": "execute_result"
    }
   ],
   "source": [
    "dotPageRankD(matriz, 0.85)"
   ]
  },
  {
   "cell_type": "markdown",
   "id": "258b98b7",
   "metadata": {},
   "source": [
    "Devido à aleatoriedade, vemos que os valores são alterados significantemente. Contudo, o importante, ou seja, o ranqueamento do _PageRank_ dos 4 sites, segue equivalente aos outros métodos."
   ]
  }
 ],
 "metadata": {
  "kernelspec": {
   "display_name": "Python 3",
   "language": "python",
   "name": "python3"
  },
  "language_info": {
   "codemirror_mode": {
    "name": "ipython",
    "version": 3
   },
   "file_extension": ".py",
   "mimetype": "text/x-python",
   "name": "python",
   "nbconvert_exporter": "python",
   "pygments_lexer": "ipython3",
   "version": "3.7.10"
  }
 },
 "nbformat": 4,
 "nbformat_minor": 5
}
