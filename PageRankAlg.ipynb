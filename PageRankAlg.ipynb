{
 "cells": [
  {
   "cell_type": "markdown",
   "id": "1b6c39a1",
   "metadata": {},
   "source": [
    "## Implementação Computacional\n",
    "Agora, vamos ver como podemos automatizar a execução do algortimo através de programação. Nesse caso, iremos utilizar o _Python_. Entretanto, é necessário primeiro importar sua biblioteca _Numpy_ para podermos trabalhar com matrizes."
   ]
  },
  {
   "cell_type": "code",
   "execution_count": 1,
   "id": "338229fb",
   "metadata": {},
   "outputs": [],
   "source": [
    "import numpy as np\n",
    "import numpy.linalg as la"
   ]
  },
  {
   "cell_type": "markdown",
   "id": "0b96a1b2",
   "metadata": {},
   "source": [
    "Isto feito, podemos criar as funções que serão utilizadas. Inicialmente, mostraremos o funcionamento em uma matriz gerada automaticamente. Eventualmente, estaremos utilizando redes retiradas da Internet. \n",
    "### Gerando uma matriz"
   ]
  },
  {
   "cell_type": "code",
   "execution_count": 2,
   "id": "a3603af6",
   "metadata": {},
   "outputs": [],
   "source": [
    "def generate_internet(n) :\n",
    "    c = np.full([n,n], np.arange(n))\n",
    "    c = (abs(np.random.standard_cauchy([n,n])/2) > (np.abs(c - c.T) + 1)) \n",
    "    c = (c+1e-10) / np.sum((c+1e-10), axis=0)\n",
    "    return c"
   ]
  },
  {
   "cell_type": "markdown",
   "id": "ef2ece61",
   "metadata": {},
   "source": [
    "Assim, criamos uma matriz quadrada do tamanho que quisermos na qual as colunas somam 1. Portanto, é uma candidata funcional para a aplicação dos métodos de _PageRank_ que visualizamos. Vamos criar uma variável _matriz_ para guardar o valor da Internet que criamos."
   ]
  },
  {
   "cell_type": "code",
   "execution_count": 3,
   "id": "a51a94d8",
   "metadata": {},
   "outputs": [
    {
     "data": {
      "text/plain": [
       "array([[2.5e-01, 1.0e-10, 5.0e-01, 5.0e-11],\n",
       "       [2.5e-01, 1.0e-10, 5.0e-11, 5.0e-11],\n",
       "       [2.5e-01, 1.0e+00, 5.0e-11, 5.0e-01],\n",
       "       [2.5e-01, 1.0e-10, 5.0e-01, 5.0e-01]])"
      ]
     },
     "execution_count": 3,
     "metadata": {},
     "output_type": "execute_result"
    }
   ],
   "source": [
    "matriz = generate_internet(4)\n",
    "matriz"
   ]
  },
  {
   "cell_type": "markdown",
   "id": "76f0be8b",
   "metadata": {},
   "source": [
    "Agora, o primeiro método que foi explicado: vamos calcular todos os autovalores e autovetores presentes na matriz criada. Depois, organizamos os autovalores em ordem decrescente e utilizamos esta mesma ordem para os autovetores. Podemos, portanto, remover o primeiro autovetor dessa lista: será o autovetor correspondente ao maior autovelor, e portanto, o _PageRank_ da matriz.\n",
    "### Utilizando os algoritmos"
   ]
  },
  {
   "cell_type": "code",
   "execution_count": 4,
   "id": "a2a725e6",
   "metadata": {},
   "outputs": [],
   "source": [
    "def eigPageRank(linkMatrix):\n",
    "    eVals, eVecs = la.eig(linkMatrix) # Calcula os autovalores e autovetores\n",
    "    order = np.absolute(eVals).argsort()[::-1] # Ordena pelos autovalores\n",
    "    eVals = eVals[order]\n",
    "    eVecs = eVecs[:,order]\n",
    "\n",
    "    r = eVecs[:, 0] # r é o principal autovetor\n",
    "    return 100 * np.real(r / np.sum(r)) # Faz o vetor somar um (e multiplica por 100)."
   ]
  },
  {
   "cell_type": "markdown",
   "id": "ee856e95",
   "metadata": {},
   "source": [
    "Utilizando essa função em nossa matriz, temos:"
   ]
  },
  {
   "cell_type": "code",
   "execution_count": 5,
   "id": "b7e4c086",
   "metadata": {},
   "outputs": [
    {
     "data": {
      "text/plain": [
       "array([21.05263158,  5.2631579 , 31.57894737, 42.10526315])"
      ]
     },
     "execution_count": 5,
     "metadata": {},
     "output_type": "execute_result"
    }
   ],
   "source": [
    "eigPageRank(matriz)"
   ]
  },
  {
   "cell_type": "markdown",
   "id": "c9b4b3bb",
   "metadata": {},
   "source": [
    "Contudo, como vimos, podemos aproximar também através de iterações. Iniciamos com um vetor $r$, que tem todas as entradas iguais e a soma é 1. Realizamos a multiplicação da _matriz_ por $r$ e atualizamos o valor de $r$ até que a norma da diferença entre duas iterações seja menor que um número extremamente pequeno."
   ]
  },
  {
   "cell_type": "code",
   "execution_count": 6,
   "id": "305ab0ab",
   "metadata": {},
   "outputs": [],
   "source": [
    "# Método por dot product\n",
    "def dotPageRank(M) :\n",
    "    n = M.shape[0]\n",
    "    r = 100 * np.ones(n) / n # Vetor (n linhas 1/n × 100 cada)\n",
    "    last = r\n",
    "    r = M @ r\n",
    "    while la.norm(last - r) > 0.01 :\n",
    "        last = r\n",
    "        r = M @ r\n",
    "    return r"
   ]
  },
  {
   "cell_type": "markdown",
   "id": "f9e2837b",
   "metadata": {},
   "source": [
    "Se aplicarmos esse método em nossa matriz, temos:"
   ]
  },
  {
   "cell_type": "code",
   "execution_count": 7,
   "id": "bf1aa757",
   "metadata": {},
   "outputs": [
    {
     "data": {
      "text/plain": [
       "array([21.05171085,  5.26457429, 31.57846332, 42.10525154])"
      ]
     },
     "execution_count": 7,
     "metadata": {},
     "output_type": "execute_result"
    }
   ],
   "source": [
    "dotPageRank(matriz)"
   ]
  },
  {
   "cell_type": "markdown",
   "id": "e5dcb714",
   "metadata": {},
   "source": [
    "Perceba que os resultados são bem semelhantes. Porém, ainda temos como aprimorar esse processo, como vimos anteriormente. Introduzimos então o fator de amortecimento $d$, para que o sistema seja eficiente em situações de drenagens ou ciclos. Usualmente, o fator de amortecimento utilizado é de 85%."
   ]
  },
  {
   "cell_type": "code",
   "execution_count": 8,
   "id": "53133471",
   "metadata": {},
   "outputs": [],
   "source": [
    "# Método por dot product (com solução para páginas que somam 0)\n",
    "def dotPageRankD(linkMatrix, d) :\n",
    "    n = linkMatrix.shape[0]\n",
    "    M = d * linkMatrix + (1-d)/n * np.ones([n, n])\n",
    "    r = 100 * np.ones(n) / n # Vetor (n linhas 1/n × 100 cada)\n",
    "    last = r\n",
    "    r = M @ r\n",
    "    while la.norm(last - r) > 0.01 :\n",
    "        last = r\n",
    "        r = M @ r\n",
    "    return r"
   ]
  },
  {
   "cell_type": "markdown",
   "id": "c3a37995",
   "metadata": {},
   "source": [
    "Por fim, testaremos esse novo processo em nossa matriz:"
   ]
  },
  {
   "cell_type": "code",
   "execution_count": 9,
   "id": "16b7f7f1",
   "metadata": {},
   "outputs": [
    {
     "data": {
      "text/plain": [
       "array([21.87046479,  8.39676658, 31.69856198, 38.03420665])"
      ]
     },
     "execution_count": 9,
     "metadata": {},
     "output_type": "execute_result"
    }
   ],
   "source": [
    "dotPageRankD(matriz, 0.85)"
   ]
  },
  {
   "cell_type": "markdown",
   "id": "a06bbf6a",
   "metadata": {},
   "source": [
    "Devido à aleatoriedade, vemos que os valores são alterados significantemente. Contudo, o importante, ou seja, o ranqueamento do _PageRank_ dos 4 sites, segue equivalente aos outros métodos."
   ]
  }
 ],
 "metadata": {
  "kernelspec": {
   "display_name": "Python 3",
   "language": "python",
   "name": "python3"
  },
  "language_info": {
   "codemirror_mode": {
    "name": "ipython",
    "version": 3
   },
   "file_extension": ".py",
   "mimetype": "text/x-python",
   "name": "python",
   "nbconvert_exporter": "python",
   "pygments_lexer": "ipython3",
   "version": "3.7.10"
  }
 },
 "nbformat": 4,
 "nbformat_minor": 5
}
