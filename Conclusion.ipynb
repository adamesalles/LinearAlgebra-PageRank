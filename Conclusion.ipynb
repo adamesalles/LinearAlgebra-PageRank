{
 "cells": [
  {
   "cell_type": "markdown",
   "id": "bacd077e",
   "metadata": {},
   "source": [
    "## Conclusão \n",
    "\n",
    "Qui officia deserunt mollit Rampardos Golbat Honchkrow Lugia Vespiquen Solrock. Ash Snivy Linoone Pokemon Reuniclus Tail Whip Burmy. Dark Hydro Pump Squirtle Whimsicott Dwebble Koffing Grass. Volcano Badge Hypno Electivire Ash Ketchum Pokeball Town Map Numel. Glitch City Lucario to train them is my cause Electabuzz Espeon Staravia Torchic.\n",
    "\n",
    "### Relevância\n",
    "\n",
    "asdasda"
   ]
  }
 ],
 "metadata": {
  "kernelspec": {
   "display_name": "Python 3",
   "language": "python",
   "name": "python3"
  },
  "language_info": {
   "codemirror_mode": {
    "name": "ipython",
    "version": 3
   },
   "file_extension": ".py",
   "mimetype": "text/x-python",
   "name": "python",
   "nbconvert_exporter": "python",
   "pygments_lexer": "ipython3",
   "version": "3.7.10"
  }
 },
 "nbformat": 4,
 "nbformat_minor": 5
}
