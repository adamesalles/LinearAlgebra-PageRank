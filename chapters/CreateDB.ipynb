{
 "cells": [
  {
   "cell_type": "markdown",
   "id": "b6b1631c",
   "metadata": {},
   "source": [
    "## Adquirindo o Conjunto de Dados\n",
    "\n",
    "Para utilizarmos o nosso algorítmo decidimos criar o nosso próprio _dataset_ a partir de _web scraping_. \n",
    "\n",
    "Para isso, os pacotes abaixo serão necessários."
   ]
  },
  {
   "cell_type": "code",
   "execution_count": 1,
   "id": "15367837",
   "metadata": {},
   "outputs": [],
   "source": [
    "import numpy as np\n",
    "import numpy.linalg as la\n",
    "import pandas as pd\n",
    "import requests\n",
    "import re\n",
    "from urllib.parse import urlparse, urldefrag\n",
    "from bs4 import BeautifulSoup as bs"
   ]
  },
  {
   "cell_type": "markdown",
   "id": "8d053265",
   "metadata": {},
   "source": [
    "Caso não haja familiaridade com os módulos além de `numpy` e `pandas`. Os módulos `requests`, `re`, e `urllib` já estão disponíveis por padrão no Python. Eles, respectivamente, fazem requisições _http_, tratam expressões regulares e permitem _url parsing_.\n",
    "\n",
    "A classe `BeautifulSoup` do módulo `bs4` permite, de forma geral, o _web scraping_.\n",
    "\n",
    "A nossa ideia de aquisição de dados foi, primeiramente escolher uma página da wikipédia como ponto inicial e adquirir todos seus links (e os links dentro das páginas desses links). Após isso, entrar em cada um desses links, filtrar por essa primeira listagem adquirida, agrupar as contagens (ver quais se repetem e quantas vezes) e depois calcular a probabilidade de você clicar em cada um dos links ao clicar em um aleatóriamente para cada página.\n",
    "\n",
    "Desse modo teremos uma matriz quadrada que atende nossos requisitos."
   ]
  },
  {
   "cell_type": "markdown",
   "id": "21d4595e",
   "metadata": {},
   "source": [
    "### Definindo funções\n",
    "\n",
    "A função abaixo retorna um _dataframe_ com os links de um _url_ específico."
   ]
  },
  {
   "cell_type": "code",
   "execution_count": 2,
   "id": "94564fc5",
   "metadata": {},
   "outputs": [],
   "source": [
    "def get_df(url: str):\n",
    "    ################\n",
    "    ### SCRAPING ###\n",
    "    ################\n",
    "    \n",
    "    # Requisitando a página.\n",
    "    raw_page = requests.get(url)\n",
    "    \n",
    "    # Adquirindo seu HTML.\n",
    "    html_page = raw_page.text\n",
    "    \n",
    "    # Criando o objeto scrapper.\n",
    "    soup = bs(html_page, 'lxml')\n",
    "    \n",
    "    # Capturando todos os links que levam à própria Wikipédia.\n",
    "    links = soup.findAll('a', attrs= {'rel': 'mw:WikiLink'})\n",
    "    \n",
    "    # Criando lista com os links.\n",
    "    data = [link.get('href') for link in links]\n",
    "    \n",
    "    # Criando dataframe a partir desses dados.\n",
    "    df = pd.DataFrame(data, columns = ['link'])\n",
    "    \n",
    "    return df"
   ]
  },
  {
   "cell_type": "markdown",
   "id": "869c59ef",
   "metadata": {},
   "source": [
    "Agora, essa função adiciona uma coluna de probabilidade no dataframe retornado pela função anterior, também recebe o seu _link_."
   ]
  },
  {
   "cell_type": "code",
   "execution_count": 3,
   "id": "8a593dd7",
   "metadata": {},
   "outputs": [],
   "source": [
    "def find_probs(url: str, df: pd.DataFrame): \n",
    "    #####################\n",
    "    ### PROBABILIDADE ###\n",
    "    #####################\n",
    "    \n",
    "    # Retirando fragmento da url\n",
    "    df['link'] = df['link'].apply(lambda x: urldefrag(x)[0])\n",
    "    \n",
    "    # Contabilizando quantas referências a cada link o site possui. \n",
    "    df = df.groupby(['link']).size().reset_index(name='count')\n",
    "    \n",
    "    # Criando a identificação da coluna a partir da url (padronizar).\n",
    "    title = url.replace('https://pt.wikipedia.org/api/rest_v1/page/html', '.')\n",
    "    \n",
    "    # Criando essa coluna de probabilidades identificada pelo site.\n",
    "    df[title] = df['count']/df['count'].sum()\n",
    "    \n",
    "    return df[['link', title]]"
   ]
  },
  {
   "cell_type": "markdown",
   "id": "2329906e",
   "metadata": {},
   "source": [
    "Já que iremos filtrar a \"nossa internet\", essa função retorna um _dataframe_ com todos os links de uma _url_ recebida. Vale notar que pode-se escolher uma \"profundidade\". No nosso caso será 1, ou seja, capturará todos os links de todos os links da `url` inicial."
   ]
  },
  {
   "cell_type": "code",
   "execution_count": 4,
   "id": "b581aa53",
   "metadata": {},
   "outputs": [],
   "source": [
    "def get_links(url: str, depth: int):\n",
    "    #############################################\n",
    "    ### CAPTURA TODOS OS LINKS PROFUNDIDADE n ###\n",
    "    #############################################\n",
    "    \n",
    "    # Requisitando a página.\n",
    "    raw_page = requests.get(url)\n",
    "    \n",
    "    # Adquirindo seu HTML.\n",
    "    html_page = raw_page.text\n",
    "    \n",
    "    # Criando o objeto scrapper.\n",
    "    soup = bs(html_page, 'lxml')\n",
    "    \n",
    "    # Capturando todos os links que levam à própria Wikipédia.\n",
    "    links = soup.findAll('a', attrs= {'rel': 'mw:WikiLink'})\n",
    "    \n",
    "    # Criando set com links. (Removendo o #param)\n",
    "    link_set = {urldefrag(link.get('href'))[0] for link in links}\n",
    "    \n",
    "    \n",
    "    if depth > 0:\n",
    "        for link in link_set:\n",
    "            # Transformando link em absoluto\n",
    "            full_link = link.replace('./', 'https://pt.wikipedia.org/api/rest_v1/page/html/') \n",
    "            # Recursividade\n",
    "            new_link_set = get_links(full_link, depth -1)\n",
    "            # Unindo os sets\n",
    "            link_set = set.union(link_set, new_link_set)\n",
    "        \n",
    "        # Adicionando url original ao set\n",
    "        title = url.replace('https://pt.wikipedia.org/api/rest_v1/page/html', '.')\n",
    "        link_set.add(title)\n",
    "        \n",
    "        # Criando dataframe a partir desse set.\n",
    "        link_filter = pd.DataFrame(link_set, columns = ['link'])\n",
    "\n",
    "        return link_filter\n",
    "    else:\n",
    "        return link_set\n",
    "    "
   ]
  },
  {
   "cell_type": "markdown",
   "id": "2e848079",
   "metadata": {},
   "source": [
    "Essa é a função principal. Nela, a criação do _dataframe_ final é realizada. Ela recebe aquela primeira _url_ utilizada (somente para ser a primeira coluna) e a lista de _links_, para ser utilizada como filtro."
   ]
  },
  {
   "cell_type": "code",
   "execution_count": 5,
   "id": "0f652124",
   "metadata": {},
   "outputs": [],
   "source": [
    "def scraping_loop(first_url: str, link_filter: pd.DataFrame):\n",
    "    ####################################\n",
    "    ### LOOP PRINCIPAL DE SCRAPING 2 ###\n",
    "    ####################################\n",
    "    \n",
    "    # Referenciando ao set que contém todos os links\n",
    "    all_links = set()\n",
    "    \n",
    "    # Adicionando o link principal a esse set\n",
    "    all_links.add(first_url)\n",
    "    \n",
    "    # Encontra os links (e suas probabilidades) para a url inicial\n",
    "    links_df = get_df(first_url)\n",
    "    links = find_probs(first_url, links_df)\n",
    "    \n",
    "    # Cria uma cópia para ser retornada após merge\n",
    "    main_frame = links.copy()\n",
    "    \n",
    "    # Itera entre os links da url principal\n",
    "    for link in link_filter['link']:\n",
    "        \n",
    "        # Transformando a url relativa para a absoluta.\n",
    "        full_link = link.replace('./', 'https://pt.wikipedia.org/api/rest_v1/page/html/')\n",
    "        \n",
    "        # Checa se o link já foi utilizado\n",
    "        if full_link in all_links:\n",
    "            continue\n",
    "        else:\n",
    "            # Adiciona ao set de links o link\n",
    "            all_links.add(full_link)\n",
    "            \n",
    "            # Cria o df para esse link\n",
    "            df = get_df(full_link)\n",
    "            \n",
    "            # Filtra os links para conter somente os de nossa internet\n",
    "            df = df[df['link'].isin(link_filter['link'])]\n",
    "            \n",
    "            # Cria a coluna (df) de probabilidades.\n",
    "            probs = find_probs(full_link, df) \n",
    "            \n",
    "            # Faz um outer join com o main_frame\n",
    "            main_frame = pd.merge(main_frame, probs, how='outer', on='link')\n",
    "            \n",
    "    return main_frame.fillna(0)"
   ]
  },
  {
   "cell_type": "markdown",
   "id": "b5269c47",
   "metadata": {},
   "source": [
    "### Procedimento de aquisição\n",
    "\n",
    "Nas linhas abaixo, discorriremos sobre o procedimento utilizado, a partir das funções previamente definidas.\n",
    "\n",
    "Primeiramente, escolhemos uma _url_."
   ]
  },
  {
   "cell_type": "code",
   "execution_count": 6,
   "id": "3ce0f75f",
   "metadata": {},
   "outputs": [],
   "source": [
    "url = 'https://pt.wikipedia.org/api/rest_v1/page/html/Álgebra_linear'"
   ]
  },
  {
   "cell_type": "markdown",
   "id": "eb05f014",
   "metadata": {},
   "source": [
    "Depois, encontraremos a lista de _links_, que servirá de filtro. Veja que é necessário 29.8 segundos para executar essa função."
   ]
  },
  {
   "cell_type": "code",
   "execution_count": 7,
   "id": "a9a1e6e0",
   "metadata": {},
   "outputs": [
    {
     "name": "stdout",
     "output_type": "stream",
     "text": [
      "CPU times: user 11 s, sys: 154 ms, total: 11.1 s\n",
      "Wall time: 29.8 s\n"
     ]
    }
   ],
   "source": [
    "%%time\n",
    "links = get_links(url, 1)"
   ]
  },
  {
   "cell_type": "markdown",
   "id": "d002295f",
   "metadata": {},
   "source": [
    "Enfim, podemos criar o nosso _dataframe_ final. Que também é possível ver que foi-se 1h25min para a execução da função."
   ]
  },
  {
   "cell_type": "code",
   "execution_count": 8,
   "id": "f9d2704e",
   "metadata": {},
   "outputs": [
    {
     "name": "stdout",
     "output_type": "stream",
     "text": [
      "CPU times: user 1h 10min 46s, sys: 7.11 s, total: 1h 10min 53s\n",
      "Wall time: 1h 25min 59s\n"
     ]
    }
   ],
   "source": [
    "%%time\n",
    "df = scraping_loop(url, links)"
   ]
  },
  {
   "cell_type": "markdown",
   "id": "dc397a0a",
   "metadata": {},
   "source": [
    "Vejamos o _dataframe_."
   ]
  },
  {
   "cell_type": "code",
   "execution_count": 9,
   "id": "dca011a9",
   "metadata": {},
   "outputs": [
    {
     "data": {
      "text/html": [
       "<div>\n",
       "<style scoped>\n",
       "    .dataframe tbody tr th:only-of-type {\n",
       "        vertical-align: middle;\n",
       "    }\n",
       "\n",
       "    .dataframe tbody tr th {\n",
       "        vertical-align: top;\n",
       "    }\n",
       "\n",
       "    .dataframe thead th {\n",
       "        text-align: right;\n",
       "    }\n",
       "</style>\n",
       "<table border=\"1\" class=\"dataframe\">\n",
       "  <thead>\n",
       "    <tr style=\"text-align: right;\">\n",
       "      <th></th>\n",
       "      <th>link</th>\n",
       "      <th>./Álgebra_linear</th>\n",
       "      <th>./Processo_Penrose</th>\n",
       "      <th>./Visão_computacional</th>\n",
       "      <th>./Axiomas</th>\n",
       "      <th>./Michael_Green</th>\n",
       "      <th>./Complexidade_NP</th>\n",
       "      <th>./Instabilidade</th>\n",
       "      <th>./Experimento_de_Franck-Hertz</th>\n",
       "      <th>./Processo_empírico</th>\n",
       "      <th>...</th>\n",
       "      <th>./Grande_Teoria_Unificada</th>\n",
       "      <th>./Limites_e_colimites</th>\n",
       "      <th>./Órbita</th>\n",
       "      <th>./Galileu_Galilei</th>\n",
       "      <th>./Conjunto_causal</th>\n",
       "      <th>./Núcleo</th>\n",
       "      <th>./Regressão_não_linear</th>\n",
       "      <th>./Transformação_projetiva</th>\n",
       "      <th>./Grupoide_(teoria_das_categorias)</th>\n",
       "      <th>./Peter_Higgs</th>\n",
       "    </tr>\n",
       "  </thead>\n",
       "  <tbody>\n",
       "    <tr>\n",
       "      <th>0</th>\n",
       "      <td>./Ajuda:Controle_de_autoridade</td>\n",
       "      <td>0.005319</td>\n",
       "      <td>0.0</td>\n",
       "      <td>0.0</td>\n",
       "      <td>0.0</td>\n",
       "      <td>0.011905</td>\n",
       "      <td>0.0</td>\n",
       "      <td>0.0</td>\n",
       "      <td>0.0</td>\n",
       "      <td>0.0</td>\n",
       "      <td>...</td>\n",
       "      <td>0.0</td>\n",
       "      <td>0.0</td>\n",
       "      <td>0.006711</td>\n",
       "      <td>0.002427</td>\n",
       "      <td>0.0</td>\n",
       "      <td>0.0</td>\n",
       "      <td>0.0</td>\n",
       "      <td>0.0</td>\n",
       "      <td>0.0</td>\n",
       "      <td>0.007246</td>\n",
       "    </tr>\n",
       "    <tr>\n",
       "      <th>1</th>\n",
       "      <td>./Anel_(matemática)</td>\n",
       "      <td>0.005319</td>\n",
       "      <td>0.0</td>\n",
       "      <td>0.0</td>\n",
       "      <td>0.0</td>\n",
       "      <td>0.000000</td>\n",
       "      <td>0.0</td>\n",
       "      <td>0.0</td>\n",
       "      <td>0.0</td>\n",
       "      <td>0.0</td>\n",
       "      <td>...</td>\n",
       "      <td>0.0</td>\n",
       "      <td>0.0</td>\n",
       "      <td>0.000000</td>\n",
       "      <td>0.000000</td>\n",
       "      <td>0.0</td>\n",
       "      <td>0.0</td>\n",
       "      <td>0.0</td>\n",
       "      <td>0.0</td>\n",
       "      <td>0.0</td>\n",
       "      <td>0.000000</td>\n",
       "    </tr>\n",
       "    <tr>\n",
       "      <th>2</th>\n",
       "      <td>./Análise_complexa</td>\n",
       "      <td>0.005319</td>\n",
       "      <td>0.0</td>\n",
       "      <td>0.0</td>\n",
       "      <td>0.0</td>\n",
       "      <td>0.000000</td>\n",
       "      <td>0.0</td>\n",
       "      <td>0.0</td>\n",
       "      <td>0.0</td>\n",
       "      <td>0.0</td>\n",
       "      <td>...</td>\n",
       "      <td>0.0</td>\n",
       "      <td>0.0</td>\n",
       "      <td>0.000000</td>\n",
       "      <td>0.000000</td>\n",
       "      <td>0.0</td>\n",
       "      <td>0.0</td>\n",
       "      <td>0.0</td>\n",
       "      <td>0.0</td>\n",
       "      <td>0.0</td>\n",
       "      <td>0.000000</td>\n",
       "    </tr>\n",
       "    <tr>\n",
       "      <th>3</th>\n",
       "      <td>./Análise_funcional</td>\n",
       "      <td>0.010638</td>\n",
       "      <td>0.0</td>\n",
       "      <td>0.0</td>\n",
       "      <td>0.0</td>\n",
       "      <td>0.000000</td>\n",
       "      <td>0.0</td>\n",
       "      <td>0.0</td>\n",
       "      <td>0.0</td>\n",
       "      <td>0.0</td>\n",
       "      <td>...</td>\n",
       "      <td>0.0</td>\n",
       "      <td>0.0</td>\n",
       "      <td>0.000000</td>\n",
       "      <td>0.000000</td>\n",
       "      <td>0.0</td>\n",
       "      <td>0.0</td>\n",
       "      <td>0.0</td>\n",
       "      <td>0.0</td>\n",
       "      <td>0.0</td>\n",
       "      <td>0.000000</td>\n",
       "    </tr>\n",
       "    <tr>\n",
       "      <th>4</th>\n",
       "      <td>./Análise_matemática</td>\n",
       "      <td>0.005319</td>\n",
       "      <td>0.0</td>\n",
       "      <td>0.0</td>\n",
       "      <td>0.0</td>\n",
       "      <td>0.000000</td>\n",
       "      <td>0.0</td>\n",
       "      <td>0.0</td>\n",
       "      <td>0.0</td>\n",
       "      <td>0.0</td>\n",
       "      <td>...</td>\n",
       "      <td>0.0</td>\n",
       "      <td>0.0</td>\n",
       "      <td>0.000000</td>\n",
       "      <td>0.000000</td>\n",
       "      <td>0.0</td>\n",
       "      <td>0.0</td>\n",
       "      <td>0.0</td>\n",
       "      <td>0.0</td>\n",
       "      <td>0.0</td>\n",
       "      <td>0.000000</td>\n",
       "    </tr>\n",
       "    <tr>\n",
       "      <th>...</th>\n",
       "      <td>...</td>\n",
       "      <td>...</td>\n",
       "      <td>...</td>\n",
       "      <td>...</td>\n",
       "      <td>...</td>\n",
       "      <td>...</td>\n",
       "      <td>...</td>\n",
       "      <td>...</td>\n",
       "      <td>...</td>\n",
       "      <td>...</td>\n",
       "      <td>...</td>\n",
       "      <td>...</td>\n",
       "      <td>...</td>\n",
       "      <td>...</td>\n",
       "      <td>...</td>\n",
       "      <td>...</td>\n",
       "      <td>...</td>\n",
       "      <td>...</td>\n",
       "      <td>...</td>\n",
       "      <td>...</td>\n",
       "      <td>...</td>\n",
       "    </tr>\n",
       "    <tr>\n",
       "      <th>7055</th>\n",
       "      <td>./Lógica_em_ciência_da_computação</td>\n",
       "      <td>0.000000</td>\n",
       "      <td>0.0</td>\n",
       "      <td>0.0</td>\n",
       "      <td>0.0</td>\n",
       "      <td>0.000000</td>\n",
       "      <td>0.0</td>\n",
       "      <td>0.0</td>\n",
       "      <td>0.0</td>\n",
       "      <td>0.0</td>\n",
       "      <td>...</td>\n",
       "      <td>0.0</td>\n",
       "      <td>0.0</td>\n",
       "      <td>0.000000</td>\n",
       "      <td>0.000000</td>\n",
       "      <td>0.0</td>\n",
       "      <td>0.0</td>\n",
       "      <td>0.0</td>\n",
       "      <td>0.0</td>\n",
       "      <td>0.0</td>\n",
       "      <td>0.000000</td>\n",
       "    </tr>\n",
       "    <tr>\n",
       "      <th>7056</th>\n",
       "      <td>./NAND</td>\n",
       "      <td>0.000000</td>\n",
       "      <td>0.0</td>\n",
       "      <td>0.0</td>\n",
       "      <td>0.0</td>\n",
       "      <td>0.000000</td>\n",
       "      <td>0.0</td>\n",
       "      <td>0.0</td>\n",
       "      <td>0.0</td>\n",
       "      <td>0.0</td>\n",
       "      <td>...</td>\n",
       "      <td>0.0</td>\n",
       "      <td>0.0</td>\n",
       "      <td>0.000000</td>\n",
       "      <td>0.000000</td>\n",
       "      <td>0.0</td>\n",
       "      <td>0.0</td>\n",
       "      <td>0.0</td>\n",
       "      <td>0.0</td>\n",
       "      <td>0.0</td>\n",
       "      <td>0.000000</td>\n",
       "    </tr>\n",
       "    <tr>\n",
       "      <th>7057</th>\n",
       "      <td>./Proposições_simples</td>\n",
       "      <td>0.000000</td>\n",
       "      <td>0.0</td>\n",
       "      <td>0.0</td>\n",
       "      <td>0.0</td>\n",
       "      <td>0.000000</td>\n",
       "      <td>0.0</td>\n",
       "      <td>0.0</td>\n",
       "      <td>0.0</td>\n",
       "      <td>0.0</td>\n",
       "      <td>...</td>\n",
       "      <td>0.0</td>\n",
       "      <td>0.0</td>\n",
       "      <td>0.000000</td>\n",
       "      <td>0.000000</td>\n",
       "      <td>0.0</td>\n",
       "      <td>0.0</td>\n",
       "      <td>0.0</td>\n",
       "      <td>0.0</td>\n",
       "      <td>0.0</td>\n",
       "      <td>0.000000</td>\n",
       "    </tr>\n",
       "    <tr>\n",
       "      <th>7058</th>\n",
       "      <td>./Soma_de_vetores</td>\n",
       "      <td>0.000000</td>\n",
       "      <td>0.0</td>\n",
       "      <td>0.0</td>\n",
       "      <td>0.0</td>\n",
       "      <td>0.000000</td>\n",
       "      <td>0.0</td>\n",
       "      <td>0.0</td>\n",
       "      <td>0.0</td>\n",
       "      <td>0.0</td>\n",
       "      <td>...</td>\n",
       "      <td>0.0</td>\n",
       "      <td>0.0</td>\n",
       "      <td>0.000000</td>\n",
       "      <td>0.000000</td>\n",
       "      <td>0.0</td>\n",
       "      <td>0.0</td>\n",
       "      <td>0.0</td>\n",
       "      <td>0.0</td>\n",
       "      <td>0.0</td>\n",
       "      <td>0.000000</td>\n",
       "    </tr>\n",
       "    <tr>\n",
       "      <th>7059</th>\n",
       "      <td>./Special:BookSources/080185413X</td>\n",
       "      <td>0.000000</td>\n",
       "      <td>0.0</td>\n",
       "      <td>0.0</td>\n",
       "      <td>0.0</td>\n",
       "      <td>0.000000</td>\n",
       "      <td>0.0</td>\n",
       "      <td>0.0</td>\n",
       "      <td>0.0</td>\n",
       "      <td>0.0</td>\n",
       "      <td>...</td>\n",
       "      <td>0.0</td>\n",
       "      <td>0.0</td>\n",
       "      <td>0.000000</td>\n",
       "      <td>0.000000</td>\n",
       "      <td>0.0</td>\n",
       "      <td>0.0</td>\n",
       "      <td>0.0</td>\n",
       "      <td>0.0</td>\n",
       "      <td>0.0</td>\n",
       "      <td>0.000000</td>\n",
       "    </tr>\n",
       "  </tbody>\n",
       "</table>\n",
       "<p>7060 rows × 7063 columns</p>\n",
       "</div>"
      ],
      "text/plain": [
       "                                   link  ./Álgebra_linear  ./Processo_Penrose  \\\n",
       "0        ./Ajuda:Controle_de_autoridade          0.005319                 0.0   \n",
       "1                   ./Anel_(matemática)          0.005319                 0.0   \n",
       "2                    ./Análise_complexa          0.005319                 0.0   \n",
       "3                   ./Análise_funcional          0.010638                 0.0   \n",
       "4                  ./Análise_matemática          0.005319                 0.0   \n",
       "...                                 ...               ...                 ...   \n",
       "7055  ./Lógica_em_ciência_da_computação          0.000000                 0.0   \n",
       "7056                             ./NAND          0.000000                 0.0   \n",
       "7057              ./Proposições_simples          0.000000                 0.0   \n",
       "7058                  ./Soma_de_vetores          0.000000                 0.0   \n",
       "7059   ./Special:BookSources/080185413X          0.000000                 0.0   \n",
       "\n",
       "      ./Visão_computacional  ./Axiomas  ./Michael_Green  ./Complexidade_NP  \\\n",
       "0                       0.0        0.0         0.011905                0.0   \n",
       "1                       0.0        0.0         0.000000                0.0   \n",
       "2                       0.0        0.0         0.000000                0.0   \n",
       "3                       0.0        0.0         0.000000                0.0   \n",
       "4                       0.0        0.0         0.000000                0.0   \n",
       "...                     ...        ...              ...                ...   \n",
       "7055                    0.0        0.0         0.000000                0.0   \n",
       "7056                    0.0        0.0         0.000000                0.0   \n",
       "7057                    0.0        0.0         0.000000                0.0   \n",
       "7058                    0.0        0.0         0.000000                0.0   \n",
       "7059                    0.0        0.0         0.000000                0.0   \n",
       "\n",
       "      ./Instabilidade  ./Experimento_de_Franck-Hertz  ./Processo_empírico  \\\n",
       "0                 0.0                            0.0                  0.0   \n",
       "1                 0.0                            0.0                  0.0   \n",
       "2                 0.0                            0.0                  0.0   \n",
       "3                 0.0                            0.0                  0.0   \n",
       "4                 0.0                            0.0                  0.0   \n",
       "...               ...                            ...                  ...   \n",
       "7055              0.0                            0.0                  0.0   \n",
       "7056              0.0                            0.0                  0.0   \n",
       "7057              0.0                            0.0                  0.0   \n",
       "7058              0.0                            0.0                  0.0   \n",
       "7059              0.0                            0.0                  0.0   \n",
       "\n",
       "      ...  ./Grande_Teoria_Unificada  ./Limites_e_colimites  ./Órbita  \\\n",
       "0     ...                        0.0                    0.0  0.006711   \n",
       "1     ...                        0.0                    0.0  0.000000   \n",
       "2     ...                        0.0                    0.0  0.000000   \n",
       "3     ...                        0.0                    0.0  0.000000   \n",
       "4     ...                        0.0                    0.0  0.000000   \n",
       "...   ...                        ...                    ...       ...   \n",
       "7055  ...                        0.0                    0.0  0.000000   \n",
       "7056  ...                        0.0                    0.0  0.000000   \n",
       "7057  ...                        0.0                    0.0  0.000000   \n",
       "7058  ...                        0.0                    0.0  0.000000   \n",
       "7059  ...                        0.0                    0.0  0.000000   \n",
       "\n",
       "      ./Galileu_Galilei  ./Conjunto_causal  ./Núcleo  ./Regressão_não_linear  \\\n",
       "0              0.002427                0.0       0.0                     0.0   \n",
       "1              0.000000                0.0       0.0                     0.0   \n",
       "2              0.000000                0.0       0.0                     0.0   \n",
       "3              0.000000                0.0       0.0                     0.0   \n",
       "4              0.000000                0.0       0.0                     0.0   \n",
       "...                 ...                ...       ...                     ...   \n",
       "7055           0.000000                0.0       0.0                     0.0   \n",
       "7056           0.000000                0.0       0.0                     0.0   \n",
       "7057           0.000000                0.0       0.0                     0.0   \n",
       "7058           0.000000                0.0       0.0                     0.0   \n",
       "7059           0.000000                0.0       0.0                     0.0   \n",
       "\n",
       "      ./Transformação_projetiva  ./Grupoide_(teoria_das_categorias)  \\\n",
       "0                           0.0                                 0.0   \n",
       "1                           0.0                                 0.0   \n",
       "2                           0.0                                 0.0   \n",
       "3                           0.0                                 0.0   \n",
       "4                           0.0                                 0.0   \n",
       "...                         ...                                 ...   \n",
       "7055                        0.0                                 0.0   \n",
       "7056                        0.0                                 0.0   \n",
       "7057                        0.0                                 0.0   \n",
       "7058                        0.0                                 0.0   \n",
       "7059                        0.0                                 0.0   \n",
       "\n",
       "      ./Peter_Higgs  \n",
       "0          0.007246  \n",
       "1          0.000000  \n",
       "2          0.000000  \n",
       "3          0.000000  \n",
       "4          0.000000  \n",
       "...             ...  \n",
       "7055       0.000000  \n",
       "7056       0.000000  \n",
       "7057       0.000000  \n",
       "7058       0.000000  \n",
       "7059       0.000000  \n",
       "\n",
       "[7060 rows x 7063 columns]"
      ]
     },
     "execution_count": 9,
     "metadata": {},
     "output_type": "execute_result"
    }
   ],
   "source": [
    "df"
   ]
  },
  {
   "cell_type": "markdown",
   "id": "117aa055",
   "metadata": {},
   "source": [
    "Para garantir que a matriz seja quadrada, podemos remover as colunas remanescentes."
   ]
  },
  {
   "cell_type": "code",
   "execution_count": 11,
   "id": "4500d36d",
   "metadata": {},
   "outputs": [],
   "source": [
    "# Removemos a coluna de link do df\n",
    "df2 = df.drop(columns = ['link'])\n",
    "# Verificamos se há mais colunas que linhas.\n",
    "cols = list(df2.columns[~df2.columns.isin(df['link'])])"
   ]
  },
  {
   "cell_type": "code",
   "execution_count": 12,
   "id": "33383b81",
   "metadata": {},
   "outputs": [],
   "source": [
    "# Se houver colunas remanescentes, as removemos\n",
    "if cols != []:\n",
    "    wiki = df.drop(columns = cols)"
   ]
  },
  {
   "cell_type": "markdown",
   "id": "a167474e",
   "metadata": {},
   "source": [
    "A fim de não ter que executar novamente essas funções anteriores, podemos exportar, de forma compactada nosso _dataframe_."
   ]
  },
  {
   "cell_type": "code",
   "execution_count": 13,
   "id": "0ef5ff91",
   "metadata": {},
   "outputs": [],
   "source": [
    "wiki.to_csv(\"datasets/wikipedia.gzip\",compression='gzip', index=False)"
   ]
  },
  {
   "cell_type": "markdown",
   "id": "80336f5f",
   "metadata": {},
   "source": [
    "Em seguida, criamos nosso `np.array`"
   ]
  },
  {
   "cell_type": "code",
   "execution_count": 14,
   "id": "73919187",
   "metadata": {},
   "outputs": [],
   "source": [
    "wiki_array = np.array(wiki.drop(columns = ['link']))"
   ]
  },
  {
   "cell_type": "markdown",
   "id": "a14e31ea",
   "metadata": {},
   "source": [
    "Verificamos suas dimensões."
   ]
  },
  {
   "cell_type": "code",
   "execution_count": 15,
   "id": "3c39f0fb",
   "metadata": {},
   "outputs": [
    {
     "data": {
      "text/plain": [
       "(7060, 7060)"
      ]
     },
     "execution_count": 15,
     "metadata": {},
     "output_type": "execute_result"
    }
   ],
   "source": [
    "wiki_array.shape"
   ]
  },
  {
   "cell_type": "markdown",
   "id": "5268c766",
   "metadata": {},
   "source": [
    "Pelo mesmo motivo anterior, também exportamos o _array_."
   ]
  },
  {
   "cell_type": "code",
   "execution_count": 16,
   "id": "2e28d618",
   "metadata": {},
   "outputs": [],
   "source": [
    "with open('datasets/wiki_db.npz', 'wb') as f:\n",
    "    np.savez_compressed(f, wiki_array)"
   ]
  },
  {
   "cell_type": "markdown",
   "id": "c656df70",
   "metadata": {},
   "source": [
    "### Recuperando os dados\n",
    "\n",
    "Para utilizar os dados a partir das exportações feita anteriormente é muito simples.\n",
    "\n",
    "No caso do `numpy`, o exemplo abaixo deve ser seguido."
   ]
  },
  {
   "cell_type": "code",
   "execution_count": 17,
   "id": "d5bd05ac",
   "metadata": {},
   "outputs": [],
   "source": [
    "wiki_saved = np.load('datasets/wiki_db.npz')['arr_0']"
   ]
  },
  {
   "cell_type": "markdown",
   "id": "b6b04031",
   "metadata": {},
   "source": [
    "Podemos confirmar se as colunas de fato somam 1 ou 0."
   ]
  },
  {
   "cell_type": "code",
   "execution_count": 23,
   "id": "0327742a",
   "metadata": {},
   "outputs": [],
   "source": [
    "# Somatório das colunas\n",
    "somatory = np.sum(wiki_saved,axis =0)"
   ]
  },
  {
   "cell_type": "markdown",
   "id": "e52be7d0",
   "metadata": {},
   "source": [
    "Vemos abaixo os valores únicos. Note que há 1 repetidos, por conta de arredondamentos, nada que alterará nossos algorítmos."
   ]
  },
  {
   "cell_type": "code",
   "execution_count": 24,
   "id": "646fb3e7",
   "metadata": {},
   "outputs": [
    {
     "data": {
      "text/plain": [
       "array([0., 1., 1., 1., 1., 1., 1.])"
      ]
     },
     "execution_count": 24,
     "metadata": {},
     "output_type": "execute_result"
    }
   ],
   "source": [
    "np.unique(somatory)"
   ]
  },
  {
   "cell_type": "markdown",
   "id": "855ad381",
   "metadata": {},
   "source": [
    "Para o `pandas`, é parecido. Veja:"
   ]
  },
  {
   "cell_type": "code",
   "execution_count": null,
   "id": "6d93f7eb",
   "metadata": {},
   "outputs": [],
   "source": [
    "df_saved = pd.read_csv('datasets/wikipedia.gzip', compression='gzip')"
   ]
  }
 ],
 "metadata": {
  "kernelspec": {
   "display_name": "Python 3",
   "language": "python",
   "name": "python3"
  },
  "language_info": {
   "codemirror_mode": {
    "name": "ipython",
    "version": 3
   },
   "file_extension": ".py",
   "mimetype": "text/x-python",
   "name": "python",
   "nbconvert_exporter": "python",
   "pygments_lexer": "ipython3",
   "version": "3.7.10"
  }
 },
 "nbformat": 4,
 "nbformat_minor": 5
}
