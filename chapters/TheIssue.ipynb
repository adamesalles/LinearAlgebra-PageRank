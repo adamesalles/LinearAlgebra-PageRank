{
 "cells": [
  {
   "cell_type": "markdown",
   "id": "7eda2c87",
   "metadata": {},
   "source": [
    "## O Problema\n",
    "\n",
    "Desde que a Internet tornou-se amplamente acessível, motores de busca foram criados, com o intuito de facilitar a procura de informação. Contudo, apenas uma lista com todos os demais sites não é o suficiente: idealmente, os resultados devem ser dispostos de forma eficiente, na qual opções cuja relevância atendem melhor o usuário são apresentados com maior destaque.\n",
    "Decorrente disso, muitas empresas foram criadas com o objetivo de estruturar um algoritmo rápido e eficaz.\n",
    "\n"
   ]
  },
  {
   "cell_type": "markdown",
   "id": "95f09373",
   "metadata": {},
   "source": [
    "### Google\n",
    "\n",
    "Dentre essas empresas, foi criada o _Google_, em janeiro de 1996. O _Google_ foi projetado por dois estudantes da Universidade de Stanford, localizada na Califórnia: Larry Page e Sergey Brin; com uma missão: organizar a informação mundial e torná-la acessível e útil. \n",
    "No mercado da época, já existiam alguns buscadores, tais como _Wandex_, _WebCrawler_ e _Dogpil_e. O que Larry e Sergey perceberam, entretanto, foi que esses buscadores convencionais utilizavam como parâmetro a contagem de vezes que os termos de buscas eram presentes na primeira página, e que esse era possível o desenvolvimento de um melhor método.\n",
    "Assim, iniciaram uma tecnologia que fosse capaz de analisar a relação entre os sites, cujo nome é uma homenagem a seu criador: o _PageRank_.\n"
   ]
  },
  {
   "cell_type": "markdown",
   "id": "c75af213",
   "metadata": {},
   "source": [
    "### PageRank\n",
    "\n",
    "Através da Internet, temos acesso a uma grande teia de documentos inter-relacionados de hipertextos, denominada _World Wide Web_ (WWW). O diferencial presente no algoritmo de _PageRank_ e a grande sacada de seus criadores é que essa interconectividade poderia e deveria ser um fator importantíssimo para o ranqueamento de sites. Dessa forma, ao invés da quantidade de termos de busca, a relevância de um site é baseada com relação a quantidade e importância de outros, aqueles capazes de realizar uma ligação de volta ao site original.\n"
   ]
  },
  {
   "cell_type": "markdown",
   "id": "103f487f",
   "metadata": {},
   "source": [
    "### Outras aplicações\n",
    "\n",
    "Por mais que seja comumente associado à sua finalidade original de ranquear páginas para o Google, o algoritmo matemático pode ser utilizado em qualquer tipo de rede ou grafo. Alguns usos atuais para o _PageRank_ se encontram em:\n",
    "* Bibliometria \n",
    "* Previsões e recomendações de links\n",
    "* Análise de sistemas de redes rodoviárias\n",
    "* Predição do número de pessoas em certas ruas e espaços.\n",
    "* Análise de redes sociais e de informações\n",
    "  * O *Twitter* utiliza do algoritmo para apresentar aos usuários outras contas relevantes.\n",
    "* Ciências tais como biologia, química, física e neurocîencia.\n",
    "  * Na biologia, é utilizado na análise de redes de proteína.\n",
    "  * Na ecologia, uma versão do algoritmo pode determinar quais espécies são essencias para um ecossistema.\n",
    "  * Na neurociência, temos em uma rede neural a correlação do _PageRank_ de um neurônio com sua taxa de disparo relativa.\n",
    "* Outras áreas\n",
    "  * Nos esportes, já foi utilizado para ranquear a performance de times e jogadores, tais como os times da _National Football League_, dos Estados Unidos.\n",
    "  * Na semântica lexical, foi utilizado para performar desambiguação e similaridade de semântica."
   ]
  }
 ],
 "metadata": {
  "kernelspec": {
   "display_name": "Python 3",
   "language": "python",
   "name": "python3"
  },
  "language_info": {
   "codemirror_mode": {
    "name": "ipython",
    "version": 3
   },
   "file_extension": ".py",
   "mimetype": "text/x-python",
   "name": "python",
   "nbconvert_exporter": "python",
   "pygments_lexer": "ipython3",
   "version": "3.7.10"
  }
 },
 "nbformat": 4,
 "nbformat_minor": 5
}
