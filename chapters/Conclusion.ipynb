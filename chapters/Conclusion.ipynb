{
 "cells": [
  {
   "cell_type": "markdown",
   "id": "49dce7e6",
   "metadata": {},
   "source": [
    "## Conclusão \n",
    "\n",
    "Por fim, temos que esse algoritmo é, de fato, muito importante para a computação. Além de ser eficiente tanto em velocidade quanto em ranquear de forma satisfatória, ele ser alimentado por conceitos conhecidos de Álgebra Linear é algo extremamente benéfico de se estudar. Conseguimos, de modo geral, aplicar diversos conceitos aprendidos não somente ao longo da disciplina, mas unir ferramentas abordadas ao longo do curso.\n",
    "\n",
    "Fomos muito felizes em conseguir aplicar o projeto em um conjunto de dados totalmente único e original. Inclusive, é de nosso interesse manter público esse método de aquisição de dados. Trabalhamos em conjunto utilizando o JupyterLab hospedado pela EMAp e versionamento Git/GitHub. A maior dificuldade foi lidar com as quase 50 milhões de entradas em nossa matriz, que nos forçava esperar por algum tempo para receber resultados de alguns testes. Entretanto, essa quantidade relativamente grande de dados nos permitiu enxergar de fato o quão rápido o _Power Method_ é em relação ao _Eigen Method_. Enfim, esperamos que o trabalho tenha sido satisfatório.\n",
    "\n",
    "## Referências\n",
    "\n",
    "Patel, Kamlesh. (2014). Improve Page Rank Algorithm using Normalized Technique. International Journal of Data Warehousing and Mining. 4. 42-47. "
   ]
  }
 ],
 "metadata": {
  "kernelspec": {
   "display_name": "Python 3",
   "language": "python",
   "name": "python3"
  },
  "language_info": {
   "codemirror_mode": {
    "name": "ipython",
    "version": 3
   },
   "file_extension": ".py",
   "mimetype": "text/x-python",
   "name": "python",
   "nbconvert_exporter": "python",
   "pygments_lexer": "ipython3",
   "version": "3.7.10"
  }
 },
 "nbformat": 4,
 "nbformat_minor": 5
}
