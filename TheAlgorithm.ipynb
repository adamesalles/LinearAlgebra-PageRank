{
 "cells": [
  {
   "cell_type": "markdown",
   "id": "c5534676",
   "metadata": {},
   "source": [
    "## O Algorítmo\n",
    "\n",
    "Há duas formas de alcançar o resultado.\n",
    "\n",
    "- Através de autovalores\n",
    "- Através de uma iteração de dotproducts\n",
    "\n",
    "O primeiro é muito custoso computacionalmente, e o segundo é uma aproximação do primeiro. Embora não encontrem valores idênticos, as primeiras posições tendem a manter a mesma ordem."
   ]
  }
 ],
 "metadata": {
  "kernelspec": {
   "display_name": "Python 3",
   "language": "python",
   "name": "python3"
  },
  "language_info": {
   "codemirror_mode": {
    "name": "ipython",
    "version": 3
   },
   "file_extension": ".py",
   "mimetype": "text/x-python",
   "name": "python",
   "nbconvert_exporter": "python",
   "pygments_lexer": "ipython3",
   "version": "3.7.10"
  }
 },
 "nbformat": 4,
 "nbformat_minor": 5
}
