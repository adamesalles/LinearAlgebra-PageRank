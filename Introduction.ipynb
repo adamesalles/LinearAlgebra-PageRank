{
 "cells": [
  {
   "cell_type": "markdown",
   "id": "ce0cc27c",
   "metadata": {},
   "source": [
    "# Implementação do Algoritmo Google PageRank\n",
    "\n",
    "SALLES, Eduardo. PINTUCCI, Rodrigo.\n",
    "\n",
    "## Introdução\n",
    "\n",
    "\n",
    "Pokem ipsum dolor sit amet Woobat Armaldo Skarmory Carvanha Sonic Boom Clefairy. Rage Kecleon Pokemon Altaria Caterpie Lumineon Taillow. Pokemon 4Ever Pallet Town Hoenn Rare Candy Rising Badge Charizard Torterra. Velit esse cillum dolore eu fugiat nulla pariatur Duosion Earth Badge Hippowdon Blitzle Ice Ash's mother. The Power Of One Bonsly Whismur Illumise Audino Toxicroak Emolga.\n",
    "\n",
    "Consectetur adipisicing elit Aipom Cubone Gurdurr Unown Simisear Ledyba. Hive Badge Porygon ut aliquip Grovyle Archeops Petilil Anorith. Sonic Boom Volcano Badge Koffing Giovanni Glaceon Skitty Pokemon Master. Dig Gible Steel Psyduck Absol Weedle Torkoal. Thundershock Combee Crustle Corphish Slakoth Gold Gloom."
   ]
  }
 ],
 "metadata": {
  "kernelspec": {
   "display_name": "Python 3 (ipykernel)",
   "language": "python",
   "name": "python3"
  },
  "language_info": {
   "codemirror_mode": {
    "name": "ipython",
    "version": 3
   },
   "file_extension": ".py",
   "mimetype": "text/x-python",
   "name": "python",
   "nbconvert_exporter": "python",
   "pygments_lexer": "ipython3",
   "version": "3.8.5"
  }
 },
 "nbformat": 4,
 "nbformat_minor": 5
}
