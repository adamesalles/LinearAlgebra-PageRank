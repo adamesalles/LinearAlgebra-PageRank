{
 "cells": [
  {
   "cell_type": "markdown",
   "id": "0160a274",
   "metadata": {},
   "source": [
    "# Aplicação do Algoritmo Google PageRank em Páginas do Wikipédia\n",
    "\n",
    "<center>SALLES, Eduardo. eadamesalles@gmail.com <br> PINTUCCI, Rodrigo. rodrigoghp@gmail.com </center>\n",
    "\n",
    "## Introdução\n",
    "\n",
    "Este relatório tem como objetivo apresentar diversas abordagens do PageRank tais como: o contexto no qual fora criado, o desenvolvimento de seu algorítmo, sua implementação em Python e sua aplicação em um conjunto de dados criado a partir de _web scraping_. O Google PageRank foi uma solução desenvolvida principalmente por Larry Page, co-fundador do Google, para solucionar problemas relacionados a indexação de websites. Desde então, esse algoritmo ganhou muita notoriedade e mérito por ser eficaz e veloz. Sua implementação, de modo geral, utiliza conceitos discutidos durante a disciplina de Álgebra Linear, para qual esse relatório é dedicado.\n",
    "\n",
    "Para a utilização de _web scraping_, nós utilizaremos ferramentas modernas em Python para adquirir e armazenar dados da Wikipédia, criando nossa \"micro internet\". O trabalho todo é baseado em notebooks, utilizando como módulo principal o `numpy` e suas funções do `numpy.linalg`, além do `pandas` e `bs4` para a aquisição do conjunto de dados.\n",
    "\n",
    "Nosso trabalho é ordenado nos seguintes tópicos:\n",
    "\n",
    "1. O Problema Motivador\n",
    "2. Funcionameto do Algoritmo\n",
    "3. Implementação Computacional\n",
    "4. Aquisição do Conjunto de Dados\n",
    "5. Aplicação do Algoritmo"
   ]
  }
 ],
 "metadata": {
  "kernelspec": {
   "display_name": "Python 3",
   "language": "python",
   "name": "python3"
  },
  "language_info": {
   "codemirror_mode": {
    "name": "ipython",
    "version": 3
   },
   "file_extension": ".py",
   "mimetype": "text/x-python",
   "name": "python",
   "nbconvert_exporter": "python",
   "pygments_lexer": "ipython3",
   "version": "3.7.10"
  }
 },
 "nbformat": 4,
 "nbformat_minor": 5
}
