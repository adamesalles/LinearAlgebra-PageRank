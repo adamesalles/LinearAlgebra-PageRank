{
 "cells": [
  {
   "cell_type": "markdown",
   "id": "1b4b5f4c",
   "metadata": {},
   "source": [
    "## Aplicação do PageRank em nosso conjunto de dados\n",
    "\n",
    "O nosso conjunto de dados contém 7060 sites. A vida é triste.\n",
    "\n",
    "Pokem ipsum dolor sit amet Woobat Armaldo Skarmory Carvanha Sonic Boom Clefairy. Rage Kecleon Pokemon Altaria Caterpie Lumineon Taillow. Pokemon 4Ever Pallet Town Hoenn Rare Candy Rising Badge Charizard Torterra. Velit esse cillum dolore eu fugiat nulla pariatur Duosion Earth Badge Hippowdon Blitzle Ice Ash's mother. The Power Of One Bonsly Whismur Illumise Audino Toxicroak Emolga.\n",
    "\n",
    "Consectetur adipisicing elit Aipom Cubone Gurdurr Unown Simisear Ledyba. Hive Badge Porygon ut aliquip Grovyle Archeops Petilil Anorith. Sonic Boom Volcano Badge Koffing Giovanni Glaceon Skitty Pokemon Master. Dig Gible Steel Psyduck Absol Weedle Torkoal. Thundershock Combee Crustle Corphish Slakoth Gold Gloom."
   ]
  },
  {
   "cell_type": "code",
   "execution_count": null,
   "id": "18e8a10a",
   "metadata": {},
   "outputs": [],
   "source": [
    "import numpy as np\n",
    "import numpy.linalg as la\n",
    "import pandas as pd\n",
    "import requests\n",
    "import re\n",
    "from urllib.parse import urlparse, urldefrag\n",
    "from bs4 import BeautifulSoup as bs"
   ]
  },
  {
   "cell_type": "code",
   "execution_count": null,
   "id": "a18217af",
   "metadata": {},
   "outputs": [],
   "source": [
    "L = np.load('datasets/wiki_db.npz')['arr_0']"
   ]
  },
  {
   "cell_type": "code",
   "execution_count": null,
   "id": "c3cce07f",
   "metadata": {},
   "outputs": [],
   "source": [
    "%%time\n",
    "eVals, eVecs = la.eig(L) # Gets the eigenvalues and vectors\n",
    "order = np.absolute(eVals).argsort()[::-1] # Orders them by their eigenvalues\n",
    "eVals = eVals[order]\n",
    "eVecs = eVecs[:,order]\n",
    "\n",
    "r = eVecs[:, 0] # Sets r to be the principal eigenvector\n",
    "p = 100 * np.real(r / np.sum(r)) # Make this eigenvector sum to one, then multiply by 100 Procrastinating Pats"
   ]
  },
  {
   "cell_type": "code",
   "execution_count": null,
   "id": "dc8b2d0f",
   "metadata": {},
   "outputs": [],
   "source": [
    "%%time\n",
    "r = 100 * np.ones(7060) / 7060 # Sets up this vector (6 entries of 1/6 × 100 each)\n",
    "for i in range(100) : # Repeat 100 times\n",
    "    r = L @ r"
   ]
  },
  {
   "cell_type": "code",
   "execution_count": null,
   "id": "f85a1430",
   "metadata": {},
   "outputs": [],
   "source": [
    "df = pd.read_csv('datasets/wikipedia.gzip', compression='gzip')"
   ]
  },
  {
   "cell_type": "code",
   "execution_count": null,
   "id": "744f461f",
   "metadata": {},
   "outputs": [],
   "source": [
    "cols = list(df.columns)\n",
    "rel = pd.DataFrame(p, cols)"
   ]
  },
  {
   "cell_type": "code",
   "execution_count": null,
   "id": "acf2f0b3",
   "metadata": {},
   "outputs": [],
   "source": [
    "rel.sort_values(0, ascending=False)[0:15]"
   ]
  },
  {
   "cell_type": "code",
   "execution_count": null,
   "id": "8c875e92",
   "metadata": {},
   "outputs": [],
   "source": []
  }
 ],
 "metadata": {
  "kernelspec": {
   "display_name": "Python 3",
   "language": "python",
   "name": "python3"
  },
  "language_info": {
   "codemirror_mode": {
    "name": "ipython",
    "version": 3
   },
   "file_extension": ".py",
   "mimetype": "text/x-python",
   "name": "python",
   "nbconvert_exporter": "python",
   "pygments_lexer": "ipython3",
   "version": "3.7.10"
  }
 },
 "nbformat": 4,
 "nbformat_minor": 5
}
