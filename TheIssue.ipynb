{
 "cells": [
  {
   "cell_type": "markdown",
   "id": "ab67732e",
   "metadata": {},
   "source": [
    "## O Problema\n",
    "\n",
    "Desde que a Internet tornou-se amplamente acessível, motores de busca foram criados, com o intuito de facilitar a procura de informação. Contudo, apenas uma lista com todos os demais sites não é o suficiente: idealmente, os resultados devem ser dispostos de forma eficiente, na qual opções cuja relevância atendem melhor o usuário são apresentados com maior destaque.\n",
    "Decorrente disso, muitas empresas foram criadas com o objetivo de estruturar um algoritmo rápido e eficaz.\n",
    "\n",
    "### Google\n",
    "\n",
    "Dentre essas empresas, foi criada o Google, em janeiro de 1996. O Google foi projetado por dois estudantes da Universidade de Stanford, localizada na Califórnia: Larry Page e Sergey Brin; com uma missão: organizar a informação mundial e torná-la acessível e útil. \n",
    "No mercado da época, já existiam alguns buscadores, tais como Wandex, WebCrawler e Dogpile. O que Larry e Sergey perceberam, entretanto, foi que esses buscadores convencionais utilizavam como parâmetro a contagem de vezes que os termos de buscas eram presentes na primeira página, e que esse era possível o desenvolvimento de um melhor método.\n",
    "Assim, iniciaram uma tecnologia que fosse capaz de analisar a relação entre os sites, cujo nome é uma homenagem a seu criador: o PageRank.\n",
    "\n",
    "### PageRank\n",
    "\n",
    "Através da Internet, temos acesso a uma grande teia de documentos inter-relacionados de hipertextos, denominada World Wide Web (WWW). O diferencial presente no algoritmo de PageRank e a grande sacada de seus criadores é que essa interconectividade poderia e deveria ser um fator importantíssimo para o ranqueamento de sites. Dessa forma, ao invés da quantidade de termos de busca, a relevância de um site é baseada com relação a quantidade e importância de outros, aqueles capazes de realizar uma ligação de volta ao site original.\n",
    "\n"
   ]
  }
 ],
 "metadata": {
  "kernelspec": {
   "display_name": "Python 3 (ipykernel)",
   "language": "python",
   "name": "python3"
  },
  "language_info": {
   "codemirror_mode": {
    "name": "ipython",
    "version": 3
   },
   "file_extension": ".py",
   "mimetype": "text/x-python",
   "name": "python",
   "nbconvert_exporter": "python",
   "pygments_lexer": "ipython3",
   "version": "3.8.5"
  }
 },
 "nbformat": 4,
 "nbformat_minor": 5
}
