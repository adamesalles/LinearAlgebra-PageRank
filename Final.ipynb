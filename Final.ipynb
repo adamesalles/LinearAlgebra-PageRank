{
 "cells": [
  {
   "cell_type": "markdown",
   "id": "929bd888",
   "metadata": {},
   "source": [
    "# Aplicação do Algoritmo _Google_ PageRank em Páginas do Wikipédia\n",
    "\n",
    "<center>SALLES, Eduardo. eadamesalles@gmail.com <br> PINTUCCI, Rodrigo. rodrigoghp@gmail.com </center>\n",
    "\n",
    "## Introdução\n",
    "\n",
    "Este relatório tem como objetivo apresentar diversas abordagens do PageRank tais como: o contexto no qual fora criado, o desenvolvimento de seu algorítmo, sua implementação em _Python_ e sua aplicação em um conjunto de dados criado a partir de _web scraping_. O _Google_ PageRank foi uma solução desenvolvida principalmente por Larry Page, co-fundador do _Google_, para solucionar problemas relacionados a indexação de websites. Desde então, esse algoritmo ganhou muita notoriedade e mérito por ser eficaz e veloz. Sua implementação, de modo geral, utiliza conceitos discutidos durante a disciplina de Álgebra Linear, para qual esse relatório é dedicado.\n",
    "\n",
    "Para a utilização de _web scraping_, nós utilizaremos ferramentas modernas em _Python_ para adquirir e armazenar dados da Wikipédia, criando nossa \"micro internet\". O trabalho todo é baseado em notebooks, utilizando como módulo principal o `numpy` e suas funções do `numpy.linalg`, além do `pandas` e `bs4` para a aquisição do conjunto de dados.\n",
    "\n",
    "Nosso trabalho é ordenado nos seguintes tópicos:\n",
    "\n",
    "1. A Motivação\n",
    "2. Funcionameto do Algoritmo\n",
    "3. Implementação Computacional\n",
    "4. Aquisição do Conjunto de Dados\n",
    "5. Aplicação do Algoritmo"
   ]
  },
  {
   "cell_type": "markdown",
   "id": "eef187e7",
   "metadata": {},
   "source": [
    "## A Motivação\n",
    "\n",
    "Desde que a Internet tornou-se amplamente acessível, motores de busca foram criados, com o intuito de facilitar a procura de informação. Contudo, apenas uma lista com todos os demais sites não é o suficiente: idealmente, os resultados devem ser dispostos de forma eficiente, na qual opções cuja relevância atendem melhor o usuário são apresentados com maior destaque.\n",
    "Decorrente disso, muitas empresas foram criadas com o objetivo de estruturar um algoritmo rápido e eficaz.\n",
    "\n"
   ]
  },
  {
   "cell_type": "markdown",
   "id": "5ac2f1f2",
   "metadata": {},
   "source": [
    "### _Google_\n",
    "\n",
    "Dentre essas empresas, foi criada o _Google_, em janeiro de 1996. O _Google_ foi projetado por dois estudantes da Universidade de Stanford, localizada na Califórnia: Larry Page e Sergey Brin; com uma missão: organizar a informação mundial e torná-la acessível e útil. \n",
    "No mercado da época, já existiam alguns buscadores, tais como _Wandex_, _WebCrawler_ e _Dogpile_. O que Larry e Sergey perceberam, entretanto, foi que esses buscadores convencionais utilizavam como parâmetro a contagem de vezes que os termos de buscas eram presentes na primeira página, e que esse era possível o desenvolvimento de um melhor método.\n",
    "Assim, iniciaram uma tecnologia que fosse capaz de analisar a relação entre os sites, cujo nome é uma homenagem a seu criador: o _PageRank_.\n"
   ]
  },
  {
   "cell_type": "markdown",
   "id": "c21ada95",
   "metadata": {},
   "source": [
    "### PageRank\n",
    "\n",
    "Através da Internet, temos acesso a uma grande teia de documentos inter-relacionados de hipertextos, denominada _World Wide Web_ (WWW). O diferencial presente no algoritmo de _PageRank_ e a grande sacada de seus criadores é que essa interconectividade poderia e deveria ser um fator importantíssimo para o ranqueamento de sites. Dessa forma, ao invés da quantidade de termos de busca, a relevância de um site é baseada com relação a quantidade e importância de outros, aqueles capazes de realizar uma ligação de volta ao site original.\n"
   ]
  },
  {
   "cell_type": "markdown",
   "id": "d4ea5802",
   "metadata": {},
   "source": [
    "### Outras aplicações\n",
    "\n",
    "Por mais que seja comumente associado à sua finalidade original de ranquear páginas para o _Google_, o algoritmo matemático pode ser utilizado em qualquer tipo de rede ou grafo. Alguns usos atuais para o _PageRank_ se encontram em:\n",
    "* Bibliometria \n",
    "* Previsões e recomendações de links\n",
    "* Análise de sistemas de redes rodoviárias\n",
    "* Predição do número de pessoas em certas ruas e espaços.\n",
    "* Análise de redes sociais e de informações\n",
    "  * O *Twitter* utiliza do algoritmo para apresentar aos usuários outras contas relevantes.\n",
    "* Ciências tais como biologia, química, física e neurocîencia.\n",
    "  * Na biologia, é utilizado na análise de redes de proteína.\n",
    "  * Na ecologia, uma versão do algoritmo pode determinar quais espécies são essencias para um ecossistema.\n",
    "  * Na neurociência, temos em uma rede neural a correlação do _PageRank_ de um neurônio com sua taxa de disparo relativa.\n",
    "* Outras áreas\n",
    "  * Nos esportes, já foi utilizado para ranquear a performance de times e jogadores, tais como os times da _National Football League_, dos Estados Unidos.\n",
    "  * Na semântica lexical, foi utilizado para performar desambiguação e similaridade de semântica."
   ]
  },
  {
   "cell_type": "markdown",
   "id": "fa151b79",
   "metadata": {
    "tags": []
   },
   "source": [
    "## O Algoritmo\n",
    "\n",
    "Para compreender como o _PageRank_ funciona, vamos examinar uma situação onde nossa rede é composta de apenas 4 sites: $A$, $B$, $C$ e $D$ e temos um hipotético usuário que caminha de um site para o outro sem preferências.\n",
    "Uma característica dessa tecnologia é que a soma de todos os _PageRank_ é $1$. Portanto, inicialmente, todos tem _PageRank_ igual a $0,25$.\n",
    "<!-- spaces -->\n",
    "<img src=\"img/ABCD1.png\" width=\"300\" height=\"300\"/>"
   ]
  },
  {
   "cell_type": "markdown",
   "id": "9daa53a9",
   "metadata": {
    "tags": []
   },
   "source": [
    "Vamos supor agora que eles estejam conectados de alguma forma entre si. Para melhor visualização, as conexões de um site consigo mesmo e o caminho de duas vias foi oculto. Nessa primeira situação, os sites $B$, $C$ e $D$ resultam unicamente em $A$. Assim, o _PageRank_ de $A$ pode ser calculado como a soma do _PageRank_ dos demais sites:\n",
    "<!-- spaces -->\n",
    "<img src=\"img/ABCD2.png\" width=\"300\" height=\"300\"/>\n",
    "<!-- spaces -->\n",
    "$$PR(A) = PR(B) + PR(C) + PR(D)$$"
   ]
  },
  {
   "cell_type": "markdown",
   "id": "2b1a9975",
   "metadata": {},
   "source": [
    "Contudo, geralmente os sites não apontam para um único local. Portanto, vamos supor que os sites $B$, $C$ e $D$ também tem conexões entre si.\n",
    "<!-- spaces -->\n",
    "<img src=\"img/ABCD3.png\" width=\"300\" height=\"300\"/>\n",
    "<!-- spaces -->\n",
    "\n",
    "Observe que o site $B$ tem 3 conexões, enquanto o site $C$ tem 2 conexões e o site $D$ apenas 1. Voltemos a nosso hipotético usuário: caso ele se encontre no site $C$, pode tanto ir para $A$ quanto para $D$. Como ele não possui preferências, a chance para que vá para um desses sites é igual. Dessa forma, no cálculo do _PageRank_ de $A$, já não podemos considerar o valor total do _PageRank_ de $C$; e sim apenas metade. O mesmo ocorre para o valor proveniente do _PageRank_ de $B$. Nessa situação, o valor proveniente de $D$ permanece o mesmo pois possui apenas uma conexão.\n",
    "Portanto, temos:\n",
    "\n",
    "$$PR(A) = \\displaystyle \\frac{PR(B)}{3} + \\frac{PR(C)}{2} + \\frac{PR(D)}{1}$$"
   ]
  },
  {
   "cell_type": "markdown",
   "id": "83f1e5fe",
   "metadata": {},
   "source": [
    "Podemos, então, generalizar essa conta: o _PageRank_ de um site vai ser a soma entre a razão do _PageRank_ de sites que referenciam o site original e o número de ligações contidos nesses outros sites. Assim, considerando o número de ligações do site $B$ o número $L(B)$ temos:\n",
    "<!-- spaces -->\n",
    "$$PR(A) = \\displaystyle \\frac{PR(B)}{L(B)} + \\frac{PR(C)}{L(C)} + \\frac{PR(D)}{L(D)}$$\n",
    "<!-- spaces -->\n",
    "Para um número qualquer de sites, podemos utilizar a seguinte notação de somatória:\n",
    "<!-- spaces -->\n",
    "$${\\displaystyle PR(u)=\\sum _{v\\in B_{u}}{\\frac {PR(v)}{L(v)}}}$$\n",
    "<!-- spaces -->\n",
    "(sendo $B_u$ o conjunto de páginas que referenciam $u$)"
   ]
  },
  {
   "cell_type": "markdown",
   "id": "8694dbbd",
   "metadata": {},
   "source": [
    "### Erros\n",
    "\n",
    "O sistema descrito é funcional para a maioria das situações. Porém, duas situações devem ser consideradas: a drenagem e o ciclo.\n"
   ]
  },
  {
   "cell_type": "markdown",
   "id": "585c68ca",
   "metadata": {
    "tags": []
   },
   "source": [
    "Voltemos na segunda imagem. Como descrito anteriormente, as ligações saindo de $A$ e as ligações de um site consigo mesmo foram ocultadas.\n",
    "Vamos supor, entretanto, que as ligações saindo de $A$ não foram ocultadas, e sim que realmente não existem.\n",
    "Dessa forma, o usuário hipotético entraria eventualmente em $A$ e seria incapaz de sair. Se analisarmos o _PageRank_, notaríamos que $A$ causou uma drenagem nos demais valores.\n",
    "<!-- spaces -->\n",
    "<img src=\"img/ABCD2.png\" width=\"300\" height=\"300\"/>"
   ]
  },
  {
   "cell_type": "markdown",
   "id": "36acd659",
   "metadata": {
    "tags": []
   },
   "source": [
    "A outra situação é quando temos um ciclo fechado, onde cada site possui uma unica ligação e eventualmente chegamos no site inicial.\n",
    "<!-- spaces -->\n",
    "<img src=\"img/ABCD4.png\" width=\"300\" height=\"300\"/>\n",
    "<!-- spaces -->\n",
    "Nesse caso, temos que $A$ aponta somente para $B$, que por sua vez aponta somente para $C$, que aponta somente para $D$ e que por fim aponta somente para $A$. Assim, o nosso usuário hipotético fica preso nesse ciclo infinito."
   ]
  },
  {
   "cell_type": "markdown",
   "id": "b29733c2",
   "metadata": {},
   "source": [
    "### A solução\n",
    "\n",
    "Para solucionar esses erros, adicionamos uma ideia em nosso algoritmo: a que o usuário hipotético pode cansar de ir para para outro site a partir de uma referência e, a qualquer momento, pode visitar qualquer site, sem preferência.\n",
    "Portanto, denominamos de $d$ um fator de amortecimento: a probabilidade, contida entre 0 e 1, de que o usuário irá seguir a ideia inicial apresentada."
   ]
  },
  {
   "cell_type": "markdown",
   "id": "f779a240",
   "metadata": {},
   "source": [
    " Analogamente, temos que a probabilidade de que o usuário decida acessar qualquer site aleatoriamente será de $(1 - d)$. Como definimos que é aleatório, a chance para cada site nessa segunda escolha é equivalente, e portanto temos $\\frac{(1 - d)}{N}$, sendo $N$ o número total de sites.  \n",
    "Concluímos assim que o cálculo do _PageRank_ pode ser dado da seguinte maneira:\n",
    "<!-- spaces -->\n",
    "$$PR(p_i) = \\displaystyle \\frac{(1 - d)}{N} + d{\\sum _{p_j\\in M{p_i}}{\\frac {PR(p_j)}{L(p_j)}}}$$\n",
    "<!-- spaces -->\n",
    "(com $M(p_i)$ sendo o conjunto de páginas que referenciam $p_i$)"
   ]
  },
  {
   "cell_type": "markdown",
   "id": "8804199d",
   "metadata": {},
   "source": [
    "### _PageRank_ como um problema de Álgebra Linear\n",
    "\n",
    "Vamos agora analisar como podemos utilizar de matrizes para facilitar o cálculo de nosso algoritmo.\n",
    "O primeiro passo será transformar o cálculo genérico numa linguagem vetorial, para que tenhamos simultaneamente o cálculo de todos os _PageRanks_. \n",
    "Assim, denominamos $\\mathbf {R}$ o vetor contendo o _PageRank_ dos sites $p_1$ até $p_n$."
   ]
  },
  {
   "cell_type": "markdown",
   "id": "c1840c06",
   "metadata": {},
   "source": [
    "Voltando ao nosso exemplo composto de 4 sites mais simples, no qual ainda não havia o fator de amortecimento, temos que $PR(A) = \\frac{PR(B)}{L(B)} + \\frac{PR(C)}{L(C)} + \\frac{PR(D)}{L(D)}$. Podemos reescrever esse segundo membro como o resultado de um produto entre o vetor linha  $\\begin{bmatrix}\\frac{1}{L(B)} & \\frac{1}{L(C)} & \\frac{1}{L(D)}\\end{bmatrix}$ e o vetor coluna $\\mathbf {R}$, o que novamente equivale a $PR(A)$. Agora, imagine que pegamos todos os vetores linhas para os demais sites e montamos uma matriz $\\mathcal {M}$. O resultado do produto dessa matriz agora não seria mais $PR(A)$, e sim um vetor composto de todos os _PageRanks_: o vetor $\\mathbf {R}$!"
   ]
  },
  {
   "cell_type": "markdown",
   "id": "bf7a7c01",
   "metadata": {},
   "source": [
    "Porém, dois pontos devem ser levados em consideração: o primeiro, é que um site pode não ter referência para outro, e o segundo é que o fator de amortecimento está ausente da equação.\n",
    "Para o primeiro ponto, vamos alterar a matriz $\\mathcal {M}$ para que cada elemento seja uma função do tipo $\\ell(p_i,p_j)$, que pode assumir dois valores: 0, caso não haja referência de $p_j$ para $p_i$, ou $\\frac{1}{L(p_j)}$ caso haja.\n",
    "Para o segundo ponto, basta multiplicar a matriz $\\mathcal {M}$ pelo fator de amortecimento $d$ e adicionar um vetor coluna de tamanho n composto de elementos $\\frac{(1-d)}{N}$\n",
    "Assim, temos o seguinte resultado:\n",
    "<!-- spaces -->\n",
    "\n",
    "$${\\displaystyle \\mathbf {R} = \\begin{bmatrix}PR(p_{1})\\\\PR(p_{2})\\\\\\vdots \\\\PR(p_{N})\\end{bmatrix}  ={\\begin{bmatrix}{(1-d)/N}\\\\{(1-d)/N}\\\\\\vdots \\\\{(1-d)/N}\\end{bmatrix}}+d{\\begin{bmatrix}\\ell (p_{1},p_{1})&\\ell (p_{1},p_{2})&\\cdots &\\ell (p_{1},p_{N})\\\\\\ell (p_{2},p_{1})&\\ddots &&\\vdots \\\\\\vdots &&\\ell (p_{i},p_{j})&\\\\\\ell (p_{N},p_{1})&\\cdots &&\\ell (p_{N},p_{N})\\end{bmatrix}}\\mathbf {R} }$$"
   ]
  },
  {
   "cell_type": "markdown",
   "id": "2f3225a7",
   "metadata": {},
   "source": [
    "Se tirarmos em evidência $\\frac{(1-d)}{N}$ do primeiro vetor, temos um vetor composto apenas de 1. Podemos aproveitar o fato de que todos os _PageRanks_ somam 1 para reescrever esse vetor como o produto $\\mathbf {ER}$, sendo $\\mathbf {E}$ um matriz composta apenas de 1, ou seja:\n",
    "<!-- spaces -->\n",
    "\n",
    "$$\\displaystyle \\begin{bmatrix}{(1-d)/N}\\\\{(1-d)/N}\\\\\\vdots \\\\{(1-d)/N}\\end{bmatrix} = \\frac{(1-d)}{N}\\begin{bmatrix}{1}\\\\{1}\\\\\\vdots \\\\{1}\\end{bmatrix} = \\frac{(1-d)}{N}ER$$"
   ]
  },
  {
   "cell_type": "markdown",
   "id": "a5e52684",
   "metadata": {},
   "source": [
    "Dessa forma, todos os termos estão multiplicados pelo vetor coluna $R$, de forma que podemos mais uma vez tirar o fator em evidência:\n",
    "<!-- spaces -->\n",
    "\n",
    "$$\\displaystyle \\mathbf {R} = (\\frac{(1-d)}{N}\\mathbf {E} + d \\mathcal {M}) \\mathbf {R}$$"
   ]
  },
  {
   "cell_type": "markdown",
   "id": "2165c393",
   "metadata": {},
   "source": [
    "Se chamarmos $(\\frac{(1-d)}{N}\\mathbf {E} + d \\mathcal {M})$ de $\\widehat {\\mathcal {M}}$, temos:\n",
    "<!-- spaces -->\n",
    "$$\\displaystyle \\mathbf {R} = \\widehat {\\mathcal {M}} \\mathbf {R}$$\n",
    "<!-- spaces -->\n",
    "De onde tiramos que $\\mathbf{R}$ **é um autovetor de** $\\widehat {\\mathcal {M}}$ **para o autovalor 1**.\n"
   ]
  },
  {
   "cell_type": "markdown",
   "id": "b7c85c86",
   "metadata": {},
   "source": [
    "Temos que os elementos da matriz $\\widehat {\\mathcal {M}}$ são não-negativos e que suas colunas somam 1 (ou em alguns casos raros, 0). Dessa forma, essa matriz é estotástica, ou seja, seu maior autovalor é 1. Conseguimos concluir assim que a matriz $\\mathbf{R}$ de _PageRank_ é o **autovetor do maior autovalor** da matriz $\\widehat {\\mathcal {M}}$."
   ]
  },
  {
   "cell_type": "markdown",
   "id": "24632a2e",
   "metadata": {},
   "source": [
    "Portanto, um método para o cálculo de _PageRank_ é:\n",
    "1. Descobrir os autovalores da matriz $\\widehat {\\mathcal {M}}$.\n",
    "2. Encontrar, dentre eles, o maior.\n",
    "3. Encontrar o autovetor para esse autovalor.\n",
    "<!-- spaces -->\n",
    "\n",
    "Contudo, esse método não é usual para matrizes muito grandes, pois demanda bastante poder computacional para descobrir todos seus autovalores."
   ]
  },
  {
   "cell_type": "markdown",
   "id": "426593be",
   "metadata": {},
   "source": [
    "### Método das potências\n",
    "\n",
    "Podemos, contudo, utilizar das equações que encontramos para calcular um método de aproximar o vetor de _PageRank_ sem ter de calcular os autovalores da matriz.\n",
    "Quando se tem uma matriz $A$ tal que um de seus autovalores é estritamente maior que os outros e temos um vetor $b_0$ que tem um componente não-nulo na direção do autovetor relacionado ao maior autovalores, temos a seguinte propriedade, denominada _Power Method_ ou _Power Iteration_:\n",
    "<!-- spaces -->\n",
    "$${\\displaystyle b_{k+1}={\\frac {Ab_{k}}{\\|Ab_{k}\\|}}}$$\n",
    "<!-- spaces -->\n",
    "Onde o vetor $b_0$ converge para o autovetor relacionado ao maior autovalor de $A$. Isso ocorre quando ele é multiplicado pela matriz, normalizado e o processo é repetido uma certa quantidade de vezes.  "
   ]
  },
  {
   "cell_type": "markdown",
   "id": "eaf6fda9",
   "metadata": {},
   "source": [
    "Devido às propriedades da matriz $\\widehat {\\mathcal {M}}$ (estocástica, primitiva e irredutível), e sabendo que $R$ é justamente o autovetor relacionado ao maior autovalor dessa matriz, sabemos que podemos então utilizar esse método para aproximar o valor de $\\mathbf{R}$ sem ter de calcular todos os autovalores.\n",
    "<!-- spaces -->\n",
    "Essas propriedades também fazem com que não seja necessário normalizar cada iteração, uma vez que esta etapa serve apenas para evitar um crescimento descontrolado do vetor."
   ]
  },
  {
   "cell_type": "markdown",
   "id": "0c9cca6d",
   "metadata": {},
   "source": [
    "Podemos iniciar com um vetor $\\mathbf{R}_0$, onde as entradas são equivalentes; de valor $\\frac{1}{N}$, sendo $N$ o número total de sites.\n",
    "Assim, escrevemos:\n",
    "<!-- spaces-->\n",
    "$${\\displaystyle \\mathbf{R}_{k+1}={\\widehat {\\mathcal {M}}}\\mathbf{R}_k}$$"
   ]
  },
  {
   "cell_type": "markdown",
   "id": "56b60a41",
   "metadata": {},
   "source": [
    "Fazendo isso, podemos comparar a norma da diferença entre $\\mathbf{R}_{k+1}$ e $\\mathbf{R}_k$ até que ele seja menor que um valor escolhido muito pequeno.\n",
    "<!-- spaces -->\n",
    "Se tivermos $\\displaystyle |\\mathbf{R}_{k+1}-\\mathbf{R}_k| \\lt\\epsilon$, então sabemos que os valores de $\\mathbf{R}_{k+1}$ convergiram para valores muitos próximos ao do vetor $\\mathbf{R}$ encontrado pelo método do autovetor."
   ]
  },
  {
   "cell_type": "markdown",
   "id": "26ea01fa",
   "metadata": {},
   "source": [
    "Logo, encontramos os dois métodos que estaremos utilizando e comparando."
   ]
  },
  {
   "cell_type": "markdown",
   "id": "0c7dc839",
   "metadata": {},
   "source": [
    "## Implementação Computacional\n",
    "Agora, vamos ver como podemos automatizar a execução do algortimo através de programação. Nesse caso, iremos utilizar o _Python_. Entretanto, é necessário primeiro importar sua biblioteca `numpy` para podermos trabalhar com matrizes."
   ]
  },
  {
   "cell_type": "code",
   "execution_count": 1,
   "id": "ac2ef093",
   "metadata": {},
   "outputs": [],
   "source": [
    "import numpy as np\n",
    "import numpy.linalg as la"
   ]
  },
  {
   "cell_type": "markdown",
   "id": "dc31eb38",
   "metadata": {},
   "source": [
    "Isto feito, podemos criar as funções que serão utilizadas. Inicialmente, mostraremos o funcionamento em uma matriz gerada automaticamente. Eventualmente, estaremos utilizando redes retiradas da Internet. \n",
    "### Gerando uma matriz"
   ]
  },
  {
   "cell_type": "code",
   "execution_count": 2,
   "id": "08ec0bb2",
   "metadata": {},
   "outputs": [],
   "source": [
    "def fake_internet(n):\n",
    "    #############################\n",
    "    ### CRIA MATRIZ APLICÁVEL ###\n",
    "    #############################\n",
    "    \n",
    "    # Cria matriz do tamanho n x n com colunas de 0, 1, ..., n-1.\n",
    "    c = np.full([n,n], np.arange(n))\n",
    "    \n",
    "    # Transforma a matriz em booleanos aleatórios com base na desigualdade abaixo.\n",
    "    c = (abs(np.random.standard_cauchy([n,n])/2) > (np.abs(c - c.T) + 1))\n",
    "    \n",
    "    # Transforma True em conexões e depois faz as colunas somarem 1.\n",
    "    c = (c+1e-10) / np.sum((c+1e-10), axis=0)\n",
    "    return c"
   ]
  },
  {
   "cell_type": "markdown",
   "id": "8966d491",
   "metadata": {},
   "source": [
    "Assim, criamos uma matriz quadrada do tamanho que quisermos na qual as colunas somam 1. Portanto, é uma candidata funcional para a aplicação dos métodos de _PageRank_ que visualizamos. Vamos criar uma variável `matrix` para guardar o valor da Internet que criamos."
   ]
  },
  {
   "cell_type": "code",
   "execution_count": 3,
   "id": "1bbe8639",
   "metadata": {},
   "outputs": [
    {
     "data": {
      "text/plain": [
       "array([[2.5e-01, 1.0e-10, 5.0e-01, 5.0e-11],\n",
       "       [2.5e-01, 1.0e-10, 5.0e-11, 5.0e-11],\n",
       "       [2.5e-01, 1.0e+00, 5.0e-11, 5.0e-01],\n",
       "       [2.5e-01, 1.0e-10, 5.0e-01, 5.0e-01]])"
      ]
     },
     "execution_count": 3,
     "metadata": {},
     "output_type": "execute_result"
    }
   ],
   "source": [
    "matrix = fake_internet(4)\n",
    "matrix"
   ]
  },
  {
   "cell_type": "markdown",
   "id": "73af0cee",
   "metadata": {},
   "source": [
    "Agora, o primeiro método que foi explicado: vamos calcular todos os autovalores e autovetores presentes na matriz criada. Depois, organizamos os autovalores em ordem decrescente e utilizamos esta mesma ordem para os autovetores. Podemos, portanto, remover o primeiro autovetor dessa lista: será o autovetor correspondente ao maior autovelor, e portanto, o _PageRank_ da matriz.\n",
    "### Utilizando os algoritmos"
   ]
  },
  {
   "cell_type": "code",
   "execution_count": 4,
   "id": "f1c81e42",
   "metadata": {},
   "outputs": [],
   "source": [
    "def eigPageRank(linkMatrix):\n",
    "    ################################\n",
    "    ### PAGERANK POR AUTOVETORES ###\n",
    "    ################################\n",
    "    \n",
    "    # Calcula os autovalores e autovetores\n",
    "    eVals, eVecs = la.eig(linkMatrix) \n",
    "    \n",
    "    # Ordena pelos autovalores\n",
    "    order = np.absolute(eVals).argsort()[::-1] \n",
    "    eVals = eVals[order]\n",
    "    eVecs = eVecs[:,order]\n",
    "    \n",
    "    # r é o principal autovetor\n",
    "    r = eVecs[:, 0] \n",
    "    \n",
    "    # Faz o vetor somar um (e multiplica por 100 pra melhorar legibilidade).\n",
    "    return 100 * np.real(r / np.sum(r)) "
   ]
  },
  {
   "cell_type": "markdown",
   "id": "45316113",
   "metadata": {},
   "source": [
    "Utilizando essa função em nossa matriz, temos:"
   ]
  },
  {
   "cell_type": "code",
   "execution_count": 5,
   "id": "a32a035e",
   "metadata": {},
   "outputs": [
    {
     "data": {
      "text/plain": [
       "array([21.05263158,  5.2631579 , 31.57894737, 42.10526315])"
      ]
     },
     "execution_count": 5,
     "metadata": {},
     "output_type": "execute_result"
    }
   ],
   "source": [
    "eigPageRank(matrix)"
   ]
  },
  {
   "cell_type": "markdown",
   "id": "3865e249",
   "metadata": {},
   "source": [
    "Contudo, como vimos, podemos aproximar também através de iterações. Iniciamos com um vetor $r$, que tem todas as entradas iguais e a soma é 1. Realizamos a multiplicação da _matriz_ por $r$ e atualizamos o valor de $r$ até que a norma da diferença entre duas iterações seja menor que um número extremamente pequeno."
   ]
  },
  {
   "cell_type": "code",
   "execution_count": 6,
   "id": "acac1c64",
   "metadata": {},
   "outputs": [],
   "source": [
    "def dotPageRank(M):\n",
    "    #############################\n",
    "    ### PAGERANK POR ITERAÇÃO ###\n",
    "    #############################\n",
    "    \n",
    "    # Armazena a quantidade de colunas\n",
    "    n = M.shape[0]\n",
    "    \n",
    "    # Vetor (n linhas 1/n × 100 cada)\n",
    "    r = 100 * np.ones(n) / n \n",
    "    \n",
    "    # Altera o valor do último r\n",
    "    last = r\n",
    "    \n",
    "    # Efetua o dotproduct\n",
    "    r = M @ r\n",
    "    \n",
    "    # Repete o processo até atender o erro arbitrário.\n",
    "    while la.norm(last - r) > 0.01 :\n",
    "        last = r\n",
    "        r = M @ r\n",
    "    return r"
   ]
  },
  {
   "cell_type": "markdown",
   "id": "2432caf3",
   "metadata": {},
   "source": [
    "Se aplicarmos esse método em nossa matriz, temos:"
   ]
  },
  {
   "cell_type": "code",
   "execution_count": 7,
   "id": "2db47427",
   "metadata": {},
   "outputs": [
    {
     "data": {
      "text/plain": [
       "array([21.05171085,  5.26457429, 31.57846332, 42.10525154])"
      ]
     },
     "execution_count": 7,
     "metadata": {},
     "output_type": "execute_result"
    }
   ],
   "source": [
    "dotPageRank(matrix)"
   ]
  },
  {
   "cell_type": "markdown",
   "id": "b489b509",
   "metadata": {},
   "source": [
    "Perceba que os resultados são bem semelhantes. Porém, ainda temos como aprimorar esse processo, como vimos anteriormente. Introduzimos então o fator de amortecimento $d$, para que o sistema seja eficiente em situações de drenagens ou ciclos. Usualmente, o fator de amortecimento utilizado é de 85%."
   ]
  },
  {
   "cell_type": "code",
   "execution_count": 8,
   "id": "774eebd7",
   "metadata": {},
   "outputs": [],
   "source": [
    "def dotPageRankD(linkMatrix, d) :\n",
    "    #############################\n",
    "    ### PAGERANK POR ITERAÇÃO ###\n",
    "    #############################\n",
    "    \n",
    "    # Armazena a quantidade de colunas\n",
    "    n = linkMatrix.shape[0]\n",
    "    \n",
    "    # Cria matriz M a partir do fator de amortecimento.\n",
    "    M = d * linkMatrix + (1-d)/n * np.ones([n, n])\n",
    "    \n",
    "    # Vetor (n linhas 1/n × 100 cada)\n",
    "    r = 100 * np.ones(n) / n \n",
    "    \n",
    "    # Altera o valor do último r\n",
    "    last = r\n",
    "    \n",
    "    # Efetua o dotproduct\n",
    "    r = M @ r\n",
    "    \n",
    "    # Repete o processo até atender o erro arbitrário.\n",
    "    while la.norm(last - r) > 0.01 :\n",
    "        last = r\n",
    "        r = M @ r\n",
    "    return r"
   ]
  },
  {
   "cell_type": "markdown",
   "id": "9b80baf6",
   "metadata": {},
   "source": [
    "Por fim, testaremos esse novo processo em nossa matriz:"
   ]
  },
  {
   "cell_type": "code",
   "execution_count": 9,
   "id": "c9b0f774",
   "metadata": {},
   "outputs": [
    {
     "data": {
      "text/plain": [
       "array([21.87046479,  8.39676658, 31.69856198, 38.03420665])"
      ]
     },
     "execution_count": 9,
     "metadata": {},
     "output_type": "execute_result"
    }
   ],
   "source": [
    "dotPageRankD(matrix, 0.85)"
   ]
  },
  {
   "cell_type": "markdown",
   "id": "b2d82892",
   "metadata": {},
   "source": [
    "Devido à aleatoriedade, vemos que os valores são alterados significantemente. Contudo, o importante, ou seja, o ranqueamento do _PageRank_ dos 4 sites, segue equivalente aos outros métodos."
   ]
  },
  {
   "cell_type": "markdown",
   "id": "3beeaa6e",
   "metadata": {},
   "source": [
    "## Adquirindo o Conjunto de Dados\n",
    "\n",
    "Para utilizarmos o nosso algorítmo decidimos criar o nosso próprio _dataset_ a partir de _web scraping_. \n",
    "\n",
    "Para isso, os pacotes abaixo serão necessários."
   ]
  },
  {
   "cell_type": "code",
   "execution_count": 1,
   "id": "fa0840b3",
   "metadata": {},
   "outputs": [],
   "source": [
    "import numpy as np\n",
    "import numpy.linalg as la\n",
    "import pandas as pd\n",
    "import requests\n",
    "import re\n",
    "from urllib.parse import urlparse, urldefrag\n",
    "from bs4 import BeautifulSoup as bs"
   ]
  },
  {
   "cell_type": "markdown",
   "id": "9f5df1b7",
   "metadata": {},
   "source": [
    "Caso não haja familiaridade com os módulos além de `numpy` e `pandas`. Os módulos `requests`, `re`, e `urllib` já estão disponíveis por padrão no _Python_. Eles, respectivamente, fazem requisições _http_, tratam expressões regulares e permitem _url parsing_.\n",
    "\n",
    "A classe `BeautifulSoup` do módulo `bs4` permite, de forma geral, o _web scraping_.\n",
    "\n",
    "A nossa ideia de aquisição de dados foi, primeiramente escolher uma página da wikipédia como ponto inicial e adquirir todos seus links (e os links dentro das páginas desses links). Após isso, entrar em cada um desses links, filtrar por essa primeira listagem adquirida, agrupar as contagens (ver quais se repetem e quantas vezes) e depois calcular a probabilidade de você clicar em cada um dos links ao clicar em um aleatóriamente para cada página.\n",
    "\n",
    "Desse modo teremos uma matriz quadrada que atende nossos requisitos."
   ]
  },
  {
   "cell_type": "markdown",
   "id": "3dadca51",
   "metadata": {},
   "source": [
    "### Definindo funções\n",
    "\n",
    "A função abaixo retorna um _dataframe_ com os links de um _url_ específico."
   ]
  },
  {
   "cell_type": "code",
   "execution_count": 2,
   "id": "59441908",
   "metadata": {},
   "outputs": [],
   "source": [
    "def get_df(url: str):\n",
    "    ################\n",
    "    ### SCRAPING ###\n",
    "    ################\n",
    "    \n",
    "    # Requisitando a página.\n",
    "    raw_page = requests.get(url)\n",
    "    \n",
    "    # Adquirindo seu HTML.\n",
    "    html_page = raw_page.text\n",
    "    \n",
    "    # Criando o objeto scrapper.\n",
    "    soup = bs(html_page, 'lxml')\n",
    "    \n",
    "    # Capturando todos os links que levam à própria Wikipédia.\n",
    "    links = soup.findAll('a', attrs= {'rel': 'mw:WikiLink'})\n",
    "    \n",
    "    # Criando lista com os links.\n",
    "    data = [link.get('href') for link in links]\n",
    "    \n",
    "    # Criando dataframe a partir desses dados.\n",
    "    df = pd.DataFrame(data, columns = ['link'])\n",
    "    \n",
    "    return df"
   ]
  },
  {
   "cell_type": "markdown",
   "id": "436d2dfa",
   "metadata": {},
   "source": [
    "Agora, essa função adiciona uma coluna de probabilidade no dataframe retornado pela função anterior, também recebe o seu _link_."
   ]
  },
  {
   "cell_type": "code",
   "execution_count": 3,
   "id": "859ebd4b",
   "metadata": {},
   "outputs": [],
   "source": [
    "def find_probs(url: str, df: pd.DataFrame): \n",
    "    #####################\n",
    "    ### PROBABILIDADE ###\n",
    "    #####################\n",
    "    \n",
    "    # Retirando fragmento da url\n",
    "    df['link'] = df['link'].apply(lambda x: urldefrag(x)[0])\n",
    "    \n",
    "    # Contabilizando quantas referências a cada link o site possui. \n",
    "    df = df.groupby(['link']).size().reset_index(name='count')\n",
    "    \n",
    "    # Criando a identificação da coluna a partir da url (padronizar).\n",
    "    title = url.replace('https://pt.wikipedia.org/api/rest_v1/page/html', '.')\n",
    "    \n",
    "    # Criando essa coluna de probabilidades identificada pelo site.\n",
    "    df[title] = df['count']/df['count'].sum()\n",
    "    \n",
    "    return df[['link', title]]"
   ]
  },
  {
   "cell_type": "markdown",
   "id": "cd09f8c5",
   "metadata": {},
   "source": [
    "Já que iremos filtrar a \"nossa internet\", essa função retorna um _dataframe_ com todos os links de uma _url_ recebida. Vale notar que pode-se escolher uma \"profundidade\". No nosso caso será 1, ou seja, capturará todos os links de todos os links da `url` inicial."
   ]
  },
  {
   "cell_type": "code",
   "execution_count": 4,
   "id": "77daa617",
   "metadata": {},
   "outputs": [],
   "source": [
    "def get_links(url: str, depth: int):\n",
    "    #############################################\n",
    "    ### CAPTURA TODOS OS LINKS PROFUNDIDADE n ###\n",
    "    #############################################\n",
    "    \n",
    "    # Requisitando a página.\n",
    "    raw_page = requests.get(url)\n",
    "    \n",
    "    # Adquirindo seu HTML.\n",
    "    html_page = raw_page.text\n",
    "    \n",
    "    # Criando o objeto scrapper.\n",
    "    soup = bs(html_page, 'lxml')\n",
    "    \n",
    "    # Capturando todos os links que levam à própria Wikipédia.\n",
    "    links = soup.findAll('a', attrs= {'rel': 'mw:WikiLink'})\n",
    "    \n",
    "    # Criando set com links. (Removendo o #param)\n",
    "    link_set = {urldefrag(link.get('href'))[0] for link in links}\n",
    "    \n",
    "    \n",
    "    if depth > 0:\n",
    "        for link in link_set:\n",
    "            # Transformando link em absoluto\n",
    "            full_link = link.replace('./', 'https://pt.wikipedia.org/api/rest_v1/page/html/') \n",
    "            # Recursividade\n",
    "            new_link_set = get_links(full_link, depth -1)\n",
    "            # Unindo os sets\n",
    "            link_set = set.union(link_set, new_link_set)\n",
    "        \n",
    "        # Adicionando url original ao set\n",
    "        title = url.replace('https://pt.wikipedia.org/api/rest_v1/page/html', '.')\n",
    "        link_set.add(title)\n",
    "        \n",
    "        # Criando dataframe a partir desse set.\n",
    "        link_filter = pd.DataFrame(link_set, columns = ['link'])\n",
    "\n",
    "        return link_filter\n",
    "    else:\n",
    "        return link_set\n",
    "    "
   ]
  },
  {
   "cell_type": "markdown",
   "id": "3a8ca98a",
   "metadata": {},
   "source": [
    "Essa é a função principal. Nela, a criação do _dataframe_ final é realizada. Ela recebe aquela primeira _url_ utilizada (somente para ser a primeira coluna) e a lista de _links_, para ser utilizada como filtro."
   ]
  },
  {
   "cell_type": "code",
   "execution_count": 5,
   "id": "65404dea",
   "metadata": {},
   "outputs": [],
   "source": [
    "def scraping_loop(first_url: str, link_filter: pd.DataFrame):\n",
    "    ####################################\n",
    "    ### LOOP PRINCIPAL DE SCRAPING 2 ###\n",
    "    ####################################\n",
    "    \n",
    "    # Referenciando ao set que contém todos os links\n",
    "    all_links = set()\n",
    "    \n",
    "    # Adicionando o link principal a esse set\n",
    "    all_links.add(first_url)\n",
    "    \n",
    "    # Encontra os links (e suas probabilidades) para a url inicial\n",
    "    links_df = get_df(first_url)\n",
    "    links = find_probs(first_url, links_df)\n",
    "    \n",
    "    # Cria uma cópia para ser retornada após merge\n",
    "    main_frame = links.copy()\n",
    "    \n",
    "    # Itera entre os links da url principal\n",
    "    for link in link_filter['link']:\n",
    "        \n",
    "        # Transformando a url relativa para a absoluta.\n",
    "        full_link = link.replace('./', 'https://pt.wikipedia.org/api/rest_v1/page/html/')\n",
    "        \n",
    "        # Checa se o link já foi utilizado\n",
    "        if full_link in all_links:\n",
    "            continue\n",
    "        else:\n",
    "            # Adiciona ao set de links o link\n",
    "            all_links.add(full_link)\n",
    "            \n",
    "            # Cria o df para esse link\n",
    "            df = get_df(full_link)\n",
    "            \n",
    "            # Filtra os links para conter somente os de nossa internet\n",
    "            df = df[df['link'].isin(link_filter['link'])]\n",
    "            \n",
    "            # Cria a coluna (df) de probabilidades.\n",
    "            probs = find_probs(full_link, df) \n",
    "            \n",
    "            # Faz um outer join com o main_frame\n",
    "            main_frame = pd.merge(main_frame, probs, how='outer', on='link')\n",
    "            \n",
    "    return main_frame.fillna(0)"
   ]
  },
  {
   "cell_type": "markdown",
   "id": "297aa550",
   "metadata": {},
   "source": [
    "### Procedimento de aquisição\n",
    "\n",
    "Nas linhas abaixo, discorriremos sobre o procedimento utilizado, a partir das funções previamente definidas.\n",
    "\n",
    "Primeiramente, escolhemos uma _url_."
   ]
  },
  {
   "cell_type": "code",
   "execution_count": 6,
   "id": "3b8a4e51",
   "metadata": {},
   "outputs": [],
   "source": [
    "url = 'https://pt.wikipedia.org/api/rest_v1/page/html/Álgebra_linear'"
   ]
  },
  {
   "cell_type": "markdown",
   "id": "338db049",
   "metadata": {},
   "source": [
    "Depois, encontraremos a lista de _links_, que servirá de filtro. Veja que é necessário 29.8 segundos para executar essa função."
   ]
  },
  {
   "cell_type": "code",
   "execution_count": 7,
   "id": "08ea193f",
   "metadata": {},
   "outputs": [
    {
     "name": "stdout",
     "output_type": "stream",
     "text": [
      "CPU times: user 11 s, sys: 154 ms, total: 11.1 s\n",
      "Wall time: 29.8 s\n"
     ]
    }
   ],
   "source": [
    "%%time\n",
    "links = get_links(url, 1)"
   ]
  },
  {
   "cell_type": "markdown",
   "id": "0b89bd52",
   "metadata": {},
   "source": [
    "Enfim, podemos criar o nosso _dataframe_ final. Que também é possível ver que foi-se 1h25min para a execução da função."
   ]
  },
  {
   "cell_type": "code",
   "execution_count": 8,
   "id": "d479b3e1",
   "metadata": {},
   "outputs": [
    {
     "name": "stdout",
     "output_type": "stream",
     "text": [
      "CPU times: user 1h 10min 46s, sys: 7.11 s, total: 1h 10min 53s\n",
      "Wall time: 1h 25min 59s\n"
     ]
    }
   ],
   "source": [
    "%%time\n",
    "df = scraping_loop(url, links)"
   ]
  },
  {
   "cell_type": "markdown",
   "id": "77d09772",
   "metadata": {},
   "source": [
    "Para garantir que a matriz seja quadrada, podemos remover as colunas remanescentes."
   ]
  },
  {
   "cell_type": "code",
   "execution_count": 11,
   "id": "e8a2e64e",
   "metadata": {},
   "outputs": [],
   "source": [
    "# Removemos a coluna de link do df\n",
    "df2 = df.drop(columns = ['link'])\n",
    "# Verificamos se há mais colunas que linhas.\n",
    "cols = list(df2.columns[~df2.columns.isin(df['link'])])"
   ]
  },
  {
   "cell_type": "code",
   "execution_count": 12,
   "id": "c26325c8",
   "metadata": {},
   "outputs": [],
   "source": [
    "# Se houver colunas remanescentes, as removemos\n",
    "if cols != []:\n",
    "    wiki = df.drop(columns = cols)"
   ]
  },
  {
   "cell_type": "markdown",
   "id": "0d2713c9",
   "metadata": {},
   "source": [
    "Buscando não ter que executar novamente essas funções anteriores, podemos exportar, de forma compactada nosso _dataframe_."
   ]
  },
  {
   "cell_type": "code",
   "execution_count": 13,
   "id": "6d175842",
   "metadata": {},
   "outputs": [],
   "source": [
    "wiki.to_csv(\"datasets/wikipedia.gzip\",compression='gzip', index=False)"
   ]
  },
  {
   "cell_type": "markdown",
   "id": "8a3586b9",
   "metadata": {},
   "source": [
    "Em seguida, criamos nosso `np.array`"
   ]
  },
  {
   "cell_type": "code",
   "execution_count": 14,
   "id": "a526e796",
   "metadata": {},
   "outputs": [],
   "source": [
    "wiki_array = np.array(wiki.drop(columns = ['link']))"
   ]
  },
  {
   "cell_type": "markdown",
   "id": "c2d12626",
   "metadata": {},
   "source": [
    "Verificamos suas dimensões."
   ]
  },
  {
   "cell_type": "code",
   "execution_count": 15,
   "id": "9624bd0e",
   "metadata": {},
   "outputs": [
    {
     "data": {
      "text/plain": [
       "(7060, 7060)"
      ]
     },
     "execution_count": 15,
     "metadata": {},
     "output_type": "execute_result"
    }
   ],
   "source": [
    "wiki_array.shape"
   ]
  },
  {
   "cell_type": "markdown",
   "id": "401c3007",
   "metadata": {},
   "source": [
    "Pelo mesmo motivo anterior, também exportamos o _array_."
   ]
  },
  {
   "cell_type": "code",
   "execution_count": 16,
   "id": "b99048ff",
   "metadata": {},
   "outputs": [],
   "source": [
    "with open('datasets/wiki_db.npz', 'wb') as f:\n",
    "    np.savez_compressed(f, wiki_array)"
   ]
  },
  {
   "cell_type": "markdown",
   "id": "4ec241c5",
   "metadata": {},
   "source": [
    "### Como recuperar os dados\n",
    "\n",
    "Para utilizar os dados a partir das exportações feita anteriormente é muito simples.\n",
    "\n",
    "No caso do `numpy`, o exemplo abaixo deve ser seguido."
   ]
  },
  {
   "cell_type": "code",
   "execution_count": 17,
   "id": "9395195a",
   "metadata": {},
   "outputs": [],
   "source": [
    "wiki_saved = np.load('datasets/wiki_db.npz')['arr_0']"
   ]
  },
  {
   "cell_type": "markdown",
   "id": "803da02e",
   "metadata": {},
   "source": [
    "Podemos confirmar se as colunas de fato somam 1 ou 0."
   ]
  },
  {
   "cell_type": "code",
   "execution_count": 23,
   "id": "b0a858d6",
   "metadata": {},
   "outputs": [],
   "source": [
    "# Somatório das colunas\n",
    "somatory = np.sum(wiki_saved,axis =0)"
   ]
  },
  {
   "cell_type": "markdown",
   "id": "6f67b1f9",
   "metadata": {},
   "source": [
    "Vemos abaixo os valores únicos. Note que há 1 repetidos, por conta de arredondamentos, nada que alterará nossos algorítmos."
   ]
  },
  {
   "cell_type": "code",
   "execution_count": 24,
   "id": "ef06e8cc",
   "metadata": {},
   "outputs": [
    {
     "data": {
      "text/plain": [
       "array([0., 1., 1., 1., 1., 1., 1.])"
      ]
     },
     "execution_count": 24,
     "metadata": {},
     "output_type": "execute_result"
    }
   ],
   "source": [
    "np.unique(somatory)"
   ]
  },
  {
   "cell_type": "markdown",
   "id": "489c27f0",
   "metadata": {},
   "source": [
    "Para o `pandas`, é parecido. Veja:"
   ]
  },
  {
   "cell_type": "code",
   "execution_count": null,
   "id": "dd80ae12",
   "metadata": {},
   "outputs": [],
   "source": [
    "df_saved = pd.read_csv('datasets/wikipedia.gzip', compression='gzip')"
   ]
  },
  {
   "cell_type": "markdown",
   "id": "1ab565e9",
   "metadata": {},
   "source": [
    "## Aplicação do _PageRank_ em nosso conjunto de dados\n",
    "\n",
    "Como visto anteriormente, nosso conjunto de dados relaciona 7060 sites. Portanto, seguiremos com a aplicação dos algorítmos.\n",
    "\n",
    "Para isso, precisaremos dos seguintes módulos."
   ]
  },
  {
   "cell_type": "code",
   "execution_count": 1,
   "id": "3a9fe367",
   "metadata": {},
   "outputs": [],
   "source": [
    "import numpy as np\n",
    "import numpy.linalg as la\n",
    "import pandas as pd\n",
    "import networkx as nx # Utilizado para criar grafos\n",
    "import matplotlib.pyplot as plt # Utilizado para plots num geral"
   ]
  },
  {
   "cell_type": "markdown",
   "id": "f4da2fab",
   "metadata": {},
   "source": [
    "### Recuperando e visualizando os dados\n",
    "\n",
    "Vamos, portanto, adquirir a _array_ do `numpy` e o _dataframe_ do `pandas`."
   ]
  },
  {
   "cell_type": "code",
   "execution_count": 2,
   "id": "c4b30835",
   "metadata": {},
   "outputs": [],
   "source": [
    "L = np.load('datasets/wiki_db.npz')['arr_0']\n",
    "df = pd.read_csv('datasets/wikipedia.gzip', compression='gzip')"
   ]
  },
  {
   "cell_type": "markdown",
   "id": "a6a5a3bd",
   "metadata": {},
   "source": [
    "Agora podemos, com auxílio dos pacotes `networkx` e `matplotlib`, visualizar em forma de grafos nosso _dataset_.\n",
    "Para isso, criamos o objeto grafo a partir de nossa matriz."
   ]
  },
  {
   "cell_type": "code",
   "execution_count": 3,
   "id": "bec5ec59",
   "metadata": {},
   "outputs": [
    {
     "name": "stdout",
     "output_type": "stream",
     "text": [
      "CPU times: user 1.49 s, sys: 54.9 ms, total: 1.54 s\n",
      "Wall time: 1.54 s\n"
     ]
    }
   ],
   "source": [
    "%%time\n",
    "G = nx.from_numpy_array(L)"
   ]
  },
  {
   "cell_type": "markdown",
   "id": "552f9ddf",
   "metadata": {},
   "source": [
    "Veja abaixo como estão as relações dos grafos. Decidimos por retirar os nós e reduzir a opacidade das linhas para ter-se melhor entendimento. Pode-se ver que, muito possivelmente devido aos assuntos serem próximos e/ou páginas de auxílio da Wikipédia, há uma grande concentração de conexões em comum. Embora haja uma quantidade razoável de nós fora desse núcleo."
   ]
  },
  {
   "cell_type": "code",
   "execution_count": 69,
   "id": "2a18a09d",
   "metadata": {},
   "outputs": [
    {
     "data": {
      "image/png": "[encoded data removed]",
      "text/plain": [
       "<Figure size 720x720 with 1 Axes>"
      ]
     },
     "metadata": {},
     "output_type": "display_data"
    }
   ],
   "source": [
    "plt.figure(figsize=(10,10))\n",
    "nx.draw(G, with_labels=False, node_size=0, alpha=0.08)\n",
    "plt.savefig('graph.png')\n",
    "plt.show()"
   ]
  },
  {
   "cell_type": "markdown",
   "id": "e0f0730a",
   "metadata": {},
   "source": [
    "Relembre as funções definidas anteriormente:"
   ]
  },
  {
   "cell_type": "code",
   "execution_count": 4,
   "id": "9cca1a0d",
   "metadata": {},
   "outputs": [],
   "source": [
    "def eigPageRank(linkMatrix):\n",
    "    ################################\n",
    "    ### PAGERANK POR AUTOVETORES ###\n",
    "    ################################\n",
    "    \n",
    "    # Calcula os autovalores e autovetores\n",
    "    eVals, eVecs = la.eig(linkMatrix) \n",
    "    \n",
    "    # Ordena pelos autovalores\n",
    "    order = np.absolute(eVals).argsort()[::-1] \n",
    "    eVals = eVals[order]\n",
    "    eVecs = eVecs[:,order]\n",
    "    \n",
    "    # r é o principal autovetor\n",
    "    r = eVecs[:, 0] \n",
    "    \n",
    "    # Faz o vetor somar um (e multiplica por 100 pra melhorar legibilidade).\n",
    "    return 100 * np.real(r / np.sum(r))\n",
    "\n",
    "def dotPageRankD(linkMatrix, d) :\n",
    "    #############################\n",
    "    ### PAGERANK POR ITERAÇÃO ###\n",
    "    #############################\n",
    "    \n",
    "    # Armazena a quantidade de colunas\n",
    "    n = linkMatrix.shape[0]\n",
    "    \n",
    "    # Cria matriz M a partir do fator de amortecimento.\n",
    "    M = d * linkMatrix + (1-d)/n * np.ones([n, n])\n",
    "    \n",
    "    # Vetor (n linhas 1/n × 100 cada)\n",
    "    r = 100 * np.ones(n) / n \n",
    "    \n",
    "    # Altera o valor do último r\n",
    "    last = r\n",
    "    \n",
    "    # Efetua o dotproduct\n",
    "    r = M @ r\n",
    "    \n",
    "    # Repete o processo até atender o erro arbitrário.\n",
    "    while la.norm(last - r) > 0.01 :\n",
    "        last = r\n",
    "        r = M @ r\n",
    "    return r"
   ]
  },
  {
   "cell_type": "markdown",
   "id": "0f3748df",
   "metadata": {},
   "source": [
    "### Aplicando os algorítmos\n",
    "\n",
    "Vamos utilizar ambos os algorítmos apresentados em seções anteriores e depois relacioná-los com o _dataframe_. \n",
    "\n",
    "Primeiramente, utilizando o método dos autovetores."
   ]
  },
  {
   "cell_type": "code",
   "execution_count": 5,
   "id": "f196805b",
   "metadata": {},
   "outputs": [
    {
     "name": "stdout",
     "output_type": "stream",
     "text": [
      "CPU times: user 4min 35s, sys: 1min 12s, total: 5min 47s\n",
      "Wall time: 1min 8s\n"
     ]
    }
   ],
   "source": [
    "%%time\n",
    "eigPR = eigPageRank(L)"
   ]
  },
  {
   "cell_type": "markdown",
   "id": "94f7050e",
   "metadata": {},
   "source": [
    "Em seguida, o método do _dot-product_."
   ]
  },
  {
   "cell_type": "code",
   "execution_count": 6,
   "id": "fa821bd9",
   "metadata": {},
   "outputs": [
    {
     "name": "stdout",
     "output_type": "stream",
     "text": [
      "CPU times: user 1.15 s, sys: 261 ms, total: 1.41 s\n",
      "Wall time: 652 ms\n"
     ]
    }
   ],
   "source": [
    "%%time\n",
    "dotPR = dotPageRankD(L, 1) # Utilizando 1 para fazer uma comparação."
   ]
  },
  {
   "cell_type": "markdown",
   "id": "9865d610",
   "metadata": {},
   "source": [
    "Observe-os"
   ]
  },
  {
   "cell_type": "code",
   "execution_count": 7,
   "id": "1bf53196",
   "metadata": {},
   "outputs": [
    {
     "data": {
      "text/plain": [
       "array([5.51433066e-01, 2.52080379e-02, 8.63712287e-02, ...,\n",
       "       1.34295455e-06, 4.37247323e-07, 4.37247323e-07])"
      ]
     },
     "execution_count": 7,
     "metadata": {},
     "output_type": "execute_result"
    }
   ],
   "source": [
    "eigPR"
   ]
  },
  {
   "cell_type": "code",
   "execution_count": 8,
   "id": "100540e0",
   "metadata": {},
   "outputs": [
    {
     "data": {
      "text/plain": [
       "array([3.14136484e-03, 1.43603365e-04, 4.92033500e-04, ...,\n",
       "       7.65044842e-09, 2.49087959e-09, 2.49087959e-09])"
      ]
     },
     "execution_count": 8,
     "metadata": {},
     "output_type": "execute_result"
    }
   ],
   "source": [
    "dotPR"
   ]
  },
  {
   "cell_type": "markdown",
   "id": "276b9085",
   "metadata": {},
   "source": [
    "Os valores são, de fato, bem diferentes. Mas vamos ver quais páginas eles apontam como mais bem ranqueadas.\n",
    "\n",
    "Vamos, para cada um dos resultados, criar um _dataframe_ que une o resultado com os sites."
   ]
  },
  {
   "cell_type": "code",
   "execution_count": 13,
   "id": "326f589b",
   "metadata": {},
   "outputs": [],
   "source": [
    "# Removendo a coluna link do df\n",
    "df2 = df.drop(columns = ['link'])\n",
    "# Adquirindo os sites\n",
    "cols = list(df2.columns)"
   ]
  },
  {
   "cell_type": "code",
   "execution_count": 14,
   "id": "253cc93d",
   "metadata": {},
   "outputs": [],
   "source": [
    "# Método dos autovetores\n",
    "rel_eig = pd.DataFrame(eigPR, cols)"
   ]
  },
  {
   "cell_type": "code",
   "execution_count": 15,
   "id": "f3822975",
   "metadata": {},
   "outputs": [],
   "source": [
    "# Método do dotproduct\n",
    "rel_dot = pd.DataFrame(dotPR, cols)"
   ]
  },
  {
   "cell_type": "markdown",
   "id": "31c9af2d",
   "metadata": {},
   "source": [
    "Agora podemos visualizar os primeiros 15 resultados de cada um dos _dataframes_ ordenados."
   ]
  },
  {
   "cell_type": "code",
   "execution_count": 21,
   "id": "f875e383",
   "metadata": {},
   "outputs": [
    {
     "data": {
      "text/html": [
       "<div>\n",
       "<style scoped>\n",
       "    .dataframe tbody tr th:only-of-type {\n",
       "        vertical-align: middle;\n",
       "    }\n",
       "\n",
       "    .dataframe tbody tr th {\n",
       "        vertical-align: top;\n",
       "    }\n",
       "\n",
       "    .dataframe thead th {\n",
       "        text-align: right;\n",
       "    }\n",
       "</style>\n",
       "<table border=\"1\" class=\"dataframe\">\n",
       "  <thead>\n",
       "    <tr style=\"text-align: right;\">\n",
       "      <th></th>\n",
       "      <th>0</th>\n",
       "    </tr>\n",
       "  </thead>\n",
       "  <tbody>\n",
       "    <tr>\n",
       "      <th>./Especial:Fontes_de_livros/978-0-07-709840-7</th>\n",
       "      <td>1.998577</td>\n",
       "    </tr>\n",
       "    <tr>\n",
       "      <th>./Emil_Artin</th>\n",
       "      <td>1.800438</td>\n",
       "    </tr>\n",
       "    <tr>\n",
       "      <th>./Universidade_de_Poitiers</th>\n",
       "      <td>1.495650</td>\n",
       "    </tr>\n",
       "    <tr>\n",
       "      <th>./Árvore_(grafo)</th>\n",
       "      <td>1.212889</td>\n",
       "    </tr>\n",
       "    <tr>\n",
       "      <th>./Special:BookSources/8573930217</th>\n",
       "      <td>1.044034</td>\n",
       "    </tr>\n",
       "    <tr>\n",
       "      <th>./Dualidade</th>\n",
       "      <td>0.878467</td>\n",
       "    </tr>\n",
       "    <tr>\n",
       "      <th>./Wikimedia</th>\n",
       "      <td>0.712887</td>\n",
       "    </tr>\n",
       "    <tr>\n",
       "      <th>./Conexidade</th>\n",
       "      <td>0.706123</td>\n",
       "    </tr>\n",
       "    <tr>\n",
       "      <th>./Função_de_Heaviside</th>\n",
       "      <td>0.669221</td>\n",
       "    </tr>\n",
       "    <tr>\n",
       "      <th>./Função_côncava</th>\n",
       "      <td>0.657430</td>\n",
       "    </tr>\n",
       "    <tr>\n",
       "      <th>./Vetores_de_estado</th>\n",
       "      <td>0.643622</td>\n",
       "    </tr>\n",
       "    <tr>\n",
       "      <th>./Álgebra_linear</th>\n",
       "      <td>0.551433</td>\n",
       "    </tr>\n",
       "    <tr>\n",
       "      <th>./Física_nuclear</th>\n",
       "      <td>0.481641</td>\n",
       "    </tr>\n",
       "    <tr>\n",
       "      <th>./Série_de_funções</th>\n",
       "      <td>0.463906</td>\n",
       "    </tr>\n",
       "    <tr>\n",
       "      <th>./Tratamento_sistemático</th>\n",
       "      <td>0.451466</td>\n",
       "    </tr>\n",
       "  </tbody>\n",
       "</table>\n",
       "</div>"
      ],
      "text/plain": [
       "                                                      0\n",
       "./Especial:Fontes_de_livros/978-0-07-709840-7  1.998577\n",
       "./Emil_Artin                                   1.800438\n",
       "./Universidade_de_Poitiers                     1.495650\n",
       "./Árvore_(grafo)                               1.212889\n",
       "./Special:BookSources/8573930217               1.044034\n",
       "./Dualidade                                    0.878467\n",
       "./Wikimedia                                    0.712887\n",
       "./Conexidade                                   0.706123\n",
       "./Função_de_Heaviside                          0.669221\n",
       "./Função_côncava                               0.657430\n",
       "./Vetores_de_estado                            0.643622\n",
       "./Álgebra_linear                               0.551433\n",
       "./Física_nuclear                               0.481641\n",
       "./Série_de_funções                             0.463906\n",
       "./Tratamento_sistemático                       0.451466"
      ]
     },
     "execution_count": 21,
     "metadata": {},
     "output_type": "execute_result"
    }
   ],
   "source": [
    "# Método dos autovetores\n",
    "rel_eig.sort_values(0, ascending=False)[0:15]"
   ]
  },
  {
   "cell_type": "code",
   "execution_count": 22,
   "id": "312e3bd7",
   "metadata": {},
   "outputs": [
    {
     "data": {
      "text/html": [
       "<div>\n",
       "<style scoped>\n",
       "    .dataframe tbody tr th:only-of-type {\n",
       "        vertical-align: middle;\n",
       "    }\n",
       "\n",
       "    .dataframe tbody tr th {\n",
       "        vertical-align: top;\n",
       "    }\n",
       "\n",
       "    .dataframe thead th {\n",
       "        text-align: right;\n",
       "    }\n",
       "</style>\n",
       "<table border=\"1\" class=\"dataframe\">\n",
       "  <thead>\n",
       "    <tr style=\"text-align: right;\">\n",
       "      <th></th>\n",
       "      <th>0</th>\n",
       "    </tr>\n",
       "  </thead>\n",
       "  <tbody>\n",
       "    <tr>\n",
       "      <th>./Especial:Fontes_de_livros/978-0-07-709840-7</th>\n",
       "      <td>0.011385</td>\n",
       "    </tr>\n",
       "    <tr>\n",
       "      <th>./Emil_Artin</th>\n",
       "      <td>0.010257</td>\n",
       "    </tr>\n",
       "    <tr>\n",
       "      <th>./Universidade_de_Poitiers</th>\n",
       "      <td>0.008520</td>\n",
       "    </tr>\n",
       "    <tr>\n",
       "      <th>./Árvore_(grafo)</th>\n",
       "      <td>0.006910</td>\n",
       "    </tr>\n",
       "    <tr>\n",
       "      <th>./Special:BookSources/8573930217</th>\n",
       "      <td>0.005948</td>\n",
       "    </tr>\n",
       "    <tr>\n",
       "      <th>./Dualidade</th>\n",
       "      <td>0.005004</td>\n",
       "    </tr>\n",
       "    <tr>\n",
       "      <th>./Wikimedia</th>\n",
       "      <td>0.004061</td>\n",
       "    </tr>\n",
       "    <tr>\n",
       "      <th>./Conexidade</th>\n",
       "      <td>0.004023</td>\n",
       "    </tr>\n",
       "    <tr>\n",
       "      <th>./Função_de_Heaviside</th>\n",
       "      <td>0.003812</td>\n",
       "    </tr>\n",
       "    <tr>\n",
       "      <th>./Função_côncava</th>\n",
       "      <td>0.003745</td>\n",
       "    </tr>\n",
       "    <tr>\n",
       "      <th>./Vetores_de_estado</th>\n",
       "      <td>0.003667</td>\n",
       "    </tr>\n",
       "    <tr>\n",
       "      <th>./Álgebra_linear</th>\n",
       "      <td>0.003141</td>\n",
       "    </tr>\n",
       "    <tr>\n",
       "      <th>./Física_nuclear</th>\n",
       "      <td>0.002744</td>\n",
       "    </tr>\n",
       "    <tr>\n",
       "      <th>./Série_de_funções</th>\n",
       "      <td>0.002643</td>\n",
       "    </tr>\n",
       "    <tr>\n",
       "      <th>./Tratamento_sistemático</th>\n",
       "      <td>0.002572</td>\n",
       "    </tr>\n",
       "  </tbody>\n",
       "</table>\n",
       "</div>"
      ],
      "text/plain": [
       "                                                      0\n",
       "./Especial:Fontes_de_livros/978-0-07-709840-7  0.011385\n",
       "./Emil_Artin                                   0.010257\n",
       "./Universidade_de_Poitiers                     0.008520\n",
       "./Árvore_(grafo)                               0.006910\n",
       "./Special:BookSources/8573930217               0.005948\n",
       "./Dualidade                                    0.005004\n",
       "./Wikimedia                                    0.004061\n",
       "./Conexidade                                   0.004023\n",
       "./Função_de_Heaviside                          0.003812\n",
       "./Função_côncava                               0.003745\n",
       "./Vetores_de_estado                            0.003667\n",
       "./Álgebra_linear                               0.003141\n",
       "./Física_nuclear                               0.002744\n",
       "./Série_de_funções                             0.002643\n",
       "./Tratamento_sistemático                       0.002572"
      ]
     },
     "execution_count": 22,
     "metadata": {},
     "output_type": "execute_result"
    }
   ],
   "source": [
    "# Método do dotproduct\n",
    "rel_dot.sort_values(0, ascending=False)[0:15]"
   ]
  },
  {
   "cell_type": "markdown",
   "id": "c133077c",
   "metadata": {},
   "source": [
    "Como pode-se ver, há os mesmos resultados em ambos. Agora vamos visualizar até que ponto eles se mantém iguais."
   ]
  },
  {
   "cell_type": "code",
   "execution_count": 23,
   "id": "6e2c69d0",
   "metadata": {},
   "outputs": [],
   "source": [
    "# Valores ranqueados do método dos autovalores\n",
    "top_eig = rel_eig.sort_values(0, ascending=False).index\n",
    "# Valores ranqueados do método do dotproduct\n",
    "top_dot = rel_dot.sort_values(0, ascending=False).index\n",
    "# Lista com as posições dos erros\n",
    "errors = []\n",
    "# Posição inicial pra ser iterada\n",
    "pos = 0\n",
    "for eig, dot in zip(top_eig, top_dot):\n",
    "    if eig == dot:\n",
    "        pos +=1\n",
    "        continue\n",
    "    else:\n",
    "        pos +=1\n",
    "        errors.append(pos)"
   ]
  },
  {
   "cell_type": "markdown",
   "id": "4d5c728b",
   "metadata": {},
   "source": [
    "Agora vemos as informações sobre esses erros."
   ]
  },
  {
   "cell_type": "code",
   "execution_count": 24,
   "id": "42b05443",
   "metadata": {},
   "outputs": [
    {
     "name": "stdout",
     "output_type": "stream",
     "text": [
      "\n",
      "Quantidade: 1610\n",
      "Menor Posição: 680\n",
      "Maior Posição: 7059\n",
      "\n"
     ]
    }
   ],
   "source": [
    "info = f\"\"\"\n",
    "Quantidade: {len(errors)}\n",
    "Menor Posição: {errors[0]}\n",
    "Maior Posição: {errors[-1]}\n",
    "\"\"\"\n",
    "print(info)"
   ]
  },
  {
   "cell_type": "markdown",
   "id": "c7a01132",
   "metadata": {},
   "source": [
    "Vendo as informações antigas, podemos ver que, para o erro menor que 0.01 arbitrário que colocamos na função, conseguimos igualdade nos primeiros 680 resultados. De certo modo, é absurdamente raro alguém alcançar essa página ao fazer uma busca. Portanto, é um resultado muito satisfatório, principalmente ao comparar 679 ms com 1min 8s.\n",
    "\n",
    "Evidentemente, é muito melhor ter uma busca extremamente rápida que atende a imensa maioria das buscas perfeitamente que ter uma busca extremamente demorada que mal aumenta a qualidade da busca.\n",
    "\n",
    "Além do mais, outro fator importante que, entre a posição 680 e a posição 7059, há somente 1610 discrepâncias. Ou seja, dentre os últimos 6379 sites, há 25% de variação na posição. O que não é necessáriamente ruim.\n",
    "\n",
    "Por fim, também é possivel diminuir ainda mais o erro permitido sem comprometer tanto a velocidade da busca."
   ]
  },
  {
   "cell_type": "markdown",
   "id": "35df953f",
   "metadata": {},
   "source": [
    "### Adicionando fator de aleatoriedade\n",
    "\n",
    "Como vimos que o método do _dotproduct_ é eficiente, podemos utilizá-lo com o parâmetro de aleatoriedade. O que siginifca que assumimos que um usuário pode simplesmente escolher uma outra página do nosso universo e acessá-la pelo campo de url. Normalmente usa-se 15% de probabilidade pelos motores de busca, ou seja, o fator de amortecimento utilizado é de 85%."
   ]
  },
  {
   "cell_type": "code",
   "execution_count": 25,
   "id": "abf1ad0d",
   "metadata": {},
   "outputs": [
    {
     "name": "stdout",
     "output_type": "stream",
     "text": [
      "CPU times: user 1.43 s, sys: 678 ms, total: 2.11 s\n",
      "Wall time: 785 ms\n"
     ]
    }
   ],
   "source": [
    "%%time\n",
    "rdotPR = dotPageRankD(L, .85) # Adicionando 15% de chance dele acessar um outro site."
   ]
  },
  {
   "cell_type": "markdown",
   "id": "e95c9fe9",
   "metadata": {},
   "source": [
    "Os valores aparentam ter se alterado, observe."
   ]
  },
  {
   "cell_type": "code",
   "execution_count": 26,
   "id": "21b3437e",
   "metadata": {},
   "outputs": [
    {
     "data": {
      "text/plain": [
       "array([4.26159319e-03, 2.42903149e-04, 6.05301389e-04, ...,\n",
       "       2.56811254e-05, 2.57428341e-05, 2.57428341e-05])"
      ]
     },
     "execution_count": 26,
     "metadata": {},
     "output_type": "execute_result"
    }
   ],
   "source": [
    "rdotPR"
   ]
  },
  {
   "cell_type": "markdown",
   "id": "03348cf6",
   "metadata": {},
   "source": [
    "Mas para saber a verdade, teremos que criar um _dataset_ a relacionando com os links."
   ]
  },
  {
   "cell_type": "code",
   "execution_count": 27,
   "id": "b645ac58",
   "metadata": {},
   "outputs": [],
   "source": [
    "rel_rdot = pd.DataFrame(rdotPR, cols)"
   ]
  },
  {
   "cell_type": "markdown",
   "id": "14f14f19",
   "metadata": {},
   "source": [
    "Já podemos ver que, de fato, já há algumas alterações nas posições."
   ]
  },
  {
   "cell_type": "code",
   "execution_count": 28,
   "id": "fe264951",
   "metadata": {},
   "outputs": [
    {
     "data": {
      "text/html": [
       "<div>\n",
       "<style scoped>\n",
       "    .dataframe tbody tr th:only-of-type {\n",
       "        vertical-align: middle;\n",
       "    }\n",
       "\n",
       "    .dataframe tbody tr th {\n",
       "        vertical-align: top;\n",
       "    }\n",
       "\n",
       "    .dataframe thead th {\n",
       "        text-align: right;\n",
       "    }\n",
       "</style>\n",
       "<table border=\"1\" class=\"dataframe\">\n",
       "  <thead>\n",
       "    <tr style=\"text-align: right;\">\n",
       "      <th></th>\n",
       "      <th>0</th>\n",
       "    </tr>\n",
       "  </thead>\n",
       "  <tbody>\n",
       "    <tr>\n",
       "      <th>./Especial:Fontes_de_livros/978-0-07-709840-7</th>\n",
       "      <td>0.015413</td>\n",
       "    </tr>\n",
       "    <tr>\n",
       "      <th>./Emil_Artin</th>\n",
       "      <td>0.013404</td>\n",
       "    </tr>\n",
       "    <tr>\n",
       "      <th>./Universidade_de_Poitiers</th>\n",
       "      <td>0.011170</td>\n",
       "    </tr>\n",
       "    <tr>\n",
       "      <th>./Árvore_(grafo)</th>\n",
       "      <td>0.009325</td>\n",
       "    </tr>\n",
       "    <tr>\n",
       "      <th>./Special:BookSources/8573930217</th>\n",
       "      <td>0.008020</td>\n",
       "    </tr>\n",
       "    <tr>\n",
       "      <th>./Dualidade</th>\n",
       "      <td>0.006822</td>\n",
       "    </tr>\n",
       "    <tr>\n",
       "      <th>./Conexidade</th>\n",
       "      <td>0.005750</td>\n",
       "    </tr>\n",
       "    <tr>\n",
       "      <th>./Wikimedia</th>\n",
       "      <td>0.005256</td>\n",
       "    </tr>\n",
       "    <tr>\n",
       "      <th>./Função_de_Heaviside</th>\n",
       "      <td>0.004999</td>\n",
       "    </tr>\n",
       "    <tr>\n",
       "      <th>./Função_côncava</th>\n",
       "      <td>0.004895</td>\n",
       "    </tr>\n",
       "    <tr>\n",
       "      <th>./Vetores_de_estado</th>\n",
       "      <td>0.004504</td>\n",
       "    </tr>\n",
       "    <tr>\n",
       "      <th>./Álgebra_linear</th>\n",
       "      <td>0.004262</td>\n",
       "    </tr>\n",
       "    <tr>\n",
       "      <th>./Física_nuclear</th>\n",
       "      <td>0.003658</td>\n",
       "    </tr>\n",
       "    <tr>\n",
       "      <th>./Série_de_funções</th>\n",
       "      <td>0.003509</td>\n",
       "    </tr>\n",
       "    <tr>\n",
       "      <th>./Tratamento_sistemático</th>\n",
       "      <td>0.003494</td>\n",
       "    </tr>\n",
       "  </tbody>\n",
       "</table>\n",
       "</div>"
      ],
      "text/plain": [
       "                                                      0\n",
       "./Especial:Fontes_de_livros/978-0-07-709840-7  0.015413\n",
       "./Emil_Artin                                   0.013404\n",
       "./Universidade_de_Poitiers                     0.011170\n",
       "./Árvore_(grafo)                               0.009325\n",
       "./Special:BookSources/8573930217               0.008020\n",
       "./Dualidade                                    0.006822\n",
       "./Conexidade                                   0.005750\n",
       "./Wikimedia                                    0.005256\n",
       "./Função_de_Heaviside                          0.004999\n",
       "./Função_côncava                               0.004895\n",
       "./Vetores_de_estado                            0.004504\n",
       "./Álgebra_linear                               0.004262\n",
       "./Física_nuclear                               0.003658\n",
       "./Série_de_funções                             0.003509\n",
       "./Tratamento_sistemático                       0.003494"
      ]
     },
     "execution_count": 28,
     "metadata": {},
     "output_type": "execute_result"
    }
   ],
   "source": [
    "rel_rdot.sort_values(0, ascending=False)[0:15]"
   ]
  },
  {
   "cell_type": "markdown",
   "id": "186d7dae",
   "metadata": {},
   "source": [
    "Agora, usaremos da mesma lógica aplicada entre os dois métodos para verificar as discrepâncias."
   ]
  },
  {
   "cell_type": "code",
   "execution_count": 29,
   "id": "21dc6bf9",
   "metadata": {},
   "outputs": [],
   "source": [
    "# Valores ranqueados do método do dotproduct sem aleatoriedade\n",
    "top_dot = rel_dot.sort_values(0, ascending=False).index\n",
    "# Valores ranqueados do método do dotproduct com aleatoriedade\n",
    "top_rdot = rel_rdot.sort_values(0, ascending=False).index\n",
    "# Lista com as posições das diferenças\n",
    "diff = []\n",
    "# Posição inicial pra ser iterada\n",
    "idx = 0\n",
    "for eig, dot in zip(top_dot, top_rdot):\n",
    "    if eig == dot:\n",
    "        idx +=1\n",
    "        continue\n",
    "    else:\n",
    "        idx +=1\n",
    "        diff.append(idx)"
   ]
  },
  {
   "cell_type": "code",
   "execution_count": 30,
   "id": "5594b6b2",
   "metadata": {},
   "outputs": [
    {
     "name": "stdout",
     "output_type": "stream",
     "text": [
      "\n",
      "Quantidade: 7019\n",
      "Menor Posição: 7\n",
      "Maior Posição: 7060\n",
      "\n"
     ]
    }
   ],
   "source": [
    "info = f\"\"\"\n",
    "Quantidade: {len(diff)}\n",
    "Menor Posição: {diff[0]}\n",
    "Maior Posição: {diff[-1]}\n",
    "\"\"\"\n",
    "print(info)"
   ]
  },
  {
   "cell_type": "markdown",
   "id": "9228e588",
   "metadata": {},
   "source": [
    "Como se pode ver, embora as primeiras posições não sejam alteradas, há uma variação enorme entre os dois. É importante esclarecer que nesse caso não se tratam de erros, pois o método utilizado adota essa aleatoriedade como verdade. Mas vejamos se os 60 primeiros são parecidos, por exemplo:"
   ]
  },
  {
   "cell_type": "code",
   "execution_count": 37,
   "id": "d7c86a95",
   "metadata": {},
   "outputs": [
    {
     "data": {
      "text/plain": [
       "7"
      ]
     },
     "execution_count": 37,
     "metadata": {},
     "output_type": "execute_result"
    }
   ],
   "source": [
    "top_60_dot = rel_dot.sort_values(0, ascending=False).index[:60]\n",
    "top_60_rdot = rel_rdot.sort_values(0, ascending=False).index[:60]\n",
    "\n",
    "# Diferença simétrica.\n",
    "len(top_60_dot[~top_60_rdot.isin(top_60_dot)])"
   ]
  },
  {
   "cell_type": "markdown",
   "id": "9fe9833c",
   "metadata": {},
   "source": [
    "Somente 7 de variação, ou seja, embora aparente uma grande mudança, dentre os 60 primeiros sites, a maioria das mudanças são entre esse próprio conjunto."
   ]
  },
  {
   "cell_type": "markdown",
   "id": "100f247d",
   "metadata": {},
   "source": [
    "## Conclusão \n",
    "\n",
    "Por fim, temos que esse algoritmo é, de fato, muito importante para a computação. Além de ser eficiente tanto em velocidade quanto em ranquear de forma satisfatória, ele ser alimentado por conceitos conhecidos de Álgebra Linear é algo extremamente benéfico de se estudar. Conseguimos, de modo geral, aplicar diversos conceitos aprendidos não somente ao longo da disciplina, mas unir ferramentas abordadas ao longo do curso.\n",
    "\n",
    "Fomos muito felizes em conseguir aplicar o projeto em um conjunto de dados totalmente único e original. Inclusive, é de nosso interesse manter público esse método de aquisição de dados. Trabalhamos em conjunto utilizando o JupyterLab hospedado pela EMAp e versionamento Git/GitHub. A maior dificuldade foi lidar com as quase 50 milhões de entradas em nossa matriz, que nos forçava esperar por algum tempo para receber resultados de alguns testes. Entretanto, essa quantidade relativamente grande de dados nos permitiu enxergar de fato o quão rápido o _Power Method_ é em relação ao _Eigen Method_. Enfim, esperamos que o trabalho tenha sido satisfatório.\n",
    "\n",
    "## Referências\n",
    "\n",
    "Patel, Kamlesh. (2014). Improve Page Rank Algorithm using Normalized Technique. International Journal of Data Warehousing and Mining. 4. 42-47. \n",
    "\n",
    "David Austin Grand Valley State University. (2006). How Google Finds Your Needle in the Web's Haystack. The American Mathematical Society. Disponível em: <http://www.ams.org/publicoutreach/feature-column/fcarc-pagerank>.\n",
    "\n",
    "Wikipédia, a enciclopédia livre. (2021). PageRank. Disponível em: <https://en.wikipedia.org/wiki/PageRank>."
   ]
  }
 ],
 "metadata": {
  "kernelspec": {
   "display_name": "Python 3",
   "language": "python",
   "name": "python3"
  },
  "language_info": {
   "codemirror_mode": {
    "name": "ipython",
    "version": 3
   },
   "file_extension": ".py",
   "mimetype": "text/x-python",
   "name": "python",
   "nbconvert_exporter": "python",
   "pygments_lexer": "ipython3",
   "version": "3.7.10"
  }
 },
 "nbformat": 4,
 "nbformat_minor": 5
}
